{
 "cells": [
  {
   "cell_type": "markdown",
   "id": "7c0e1b90",
   "metadata": {
    "papermill": {
     "duration": 0.037793,
     "end_time": "2021-09-01T10:48:16.795032",
     "exception": false,
     "start_time": "2021-09-01T10:48:16.757239",
     "status": "completed"
    },
    "tags": []
   },
   "source": [
    "<img src=\"https://thecxinsights.com/wp-content/uploads/2021/03/Customer-Segmentation-Featured-Image-3.png\" width=\"1000\" align=\"centr\"/>\n",
    "\n",
    "\n",
    "<p style=\"font-family: Arials; line-height: 1.3; font-size: 26px; font-weight: bold; letter-spacing: 2px; text-align: center; color: #DC143C\">Customer Segmentation</p>"
   ]
  },
  {
   "cell_type": "markdown",
   "id": "bab0e700",
   "metadata": {
    "papermill": {
     "duration": 0.036333,
     "end_time": "2021-09-01T10:48:16.870353",
     "exception": false,
     "start_time": "2021-09-01T10:48:16.834020",
     "status": "completed"
    },
    "tags": []
   },
   "source": [
    "<p style=\"font-family: Arials; font-size: 18px; text-align: center; color: Black\">Hello everyone! I would like to present you my new work.</p>\n",
    "\n",
    "<p style=\"font-family: Arials; font-size: 18px; text-align: center; color: Black\">In this notebook you will see how to do clustering. We are going to cluster the customers based on the RFM:</p>\n",
    "<p style=\"font-family: Arials; font-size: 18px; text-align: center; color: Black\">I would be very grateful for any feedback on this work and your vote. Happy reading.</p>"
   ]
  },
  {
   "cell_type": "markdown",
   "id": "bac8d199",
   "metadata": {
    "papermill": {
     "duration": 0.036825,
     "end_time": "2021-09-01T10:48:16.944679",
     "exception": false,
     "start_time": "2021-09-01T10:48:16.907854",
     "status": "completed"
    },
    "tags": []
   },
   "source": [
    "<p style=\"font-family: Arials; font-size: 18px; font-style: bold; font-weight: bold; letter-spacing: 2px; color: #DC143C; line-height:1.0\">TABLE OF CONTENTS</p>\n",
    "<hr style=\"height: 0.5px; border: 0; background-color: 'Black'\">\n",
    "\n",
    "<p style=\"font-family: Arials; font-size: 16px; font-style: bold; letter-spacing: 2px; color: #DC143C; line-height:1.0\"><a href=\"#part1\" style=\"color:black\">1. INTRODUCTION.</a></p>\n",
    "\n",
    "<p style=\"font-family: Arials; font-size: 16px; font-style: bold; letter-spacing: 2px; color: #DC143C; line-height:1.0\"><a href=\"#part2\" style=\"color:black\">2. IMPORT LIBRARIES AND DATA SET.</a></p>\n",
    "\n",
    "\n",
    "<p style=\"font-family: Arials; font-size: 16px; font-style: bold; letter-spacing: 2px; color: #DC143C; line-height:1.0\"><a href=\"#part3\" style=\"color:black\">3 DATA EXPLORATION AND CLEANING</a></p>\n",
    "\n",
    "<p style=\"font-family: Arials; font-size: 16px; font-style: bold; letter-spacing: 2px; color: #DC143C; line-height:1.0\"><a href=\"#part4\" style=\"color:black\">4 VISUALIZATION</a></p>\n",
    "\n",
    "<p style=\"font-family: Arials; font-size: 16px; font-style: bold; letter-spacing: 2px; color: #DC143C; line-height:1.0\"><a href=\"#part5\" style=\"color:black\">5. MAKE DATA SET READY FOR MODELLING</a></p>\n",
    "\n",
    "<p style=\"text-indent: 2.5vw; font-family: Arials; font-size: 15px; letter-spacing: 2px; color: #DC143C; line-height:1.3\">\n",
    "<a href=\"#part6\" style=\"color:black\">5.1 CLEANING</a></p>\n",
    "\n",
    "<p style=\"font-family: Arials; font-size: 16px; font-style: bold; letter-spacing: 2px; color: #DC143C; line-height:1.0\"><a href=\"#part7\" style=\"color:black\">6. MODELLING</a></p>\n",
    "\n"
   ]
  },
  {
   "cell_type": "markdown",
   "id": "6443d98c",
   "metadata": {
    "papermill": {
     "duration": 0.037755,
     "end_time": "2021-09-01T10:48:17.019828",
     "exception": false,
     "start_time": "2021-09-01T10:48:16.982073",
     "status": "completed"
    },
    "tags": []
   },
   "source": [
    "<p id=\"part1\"></p>\n",
    "\n",
    "# <span style=\"font-family: Arials; font-size: 18px; font-style: bold; font-weight: bold; letter-spacing: 2px; color: #DC143C\">1. INTRODUCTION</span>\n",
    "\n",
    "\n",
    "<p style=\"font-family: Arials; font-size: 18px;font-weight: bold; color: 'Black\">This is a transnational data set which contains all the transactions occurring between 01/12/2010 and 09/12/2011 for a UK-based and registered non-store online retail. The company mainly sells unique all-occasion gifts. Many customers of the company are wholesalers.</p>"
   ]
  },
  {
   "cell_type": "markdown",
   "id": "2e7ea247",
   "metadata": {
    "papermill": {
     "duration": 0.036913,
     "end_time": "2021-09-01T10:48:17.094021",
     "exception": false,
     "start_time": "2021-09-01T10:48:17.057108",
     "status": "completed"
    },
    "tags": []
   },
   "source": [
    "<p style=\"font-family: Arials; font-size: 18px; text-align: center; color: Black;color: #DC143C\">Now let's see what is the problem statment.</p>\n",
    "\n",
    "<p style=\"font-family: Arials; font-size: 18px; text-align: center; color: Black\">Suppose you are the head of this store and you wish to understand preferences of your costumers to scale up your business.Is it possible for you to look at details of each costumer and devise a unique business strategy for each one of them? Definitely not. But, what you can do is to cluster all of your costumers into say 10 groups based on their purchasing habits and use a separate strategy for costumers in each of these 10 groups. And this is what we call clustering.\n",
    "\n",
    "<p style=\"font-family: Arials; font-size: 18px; text-align: center; color: Black\">Now, that we understand what is clustering. Let’s make clusters.</p>"
   ]
  },
  {
   "cell_type": "markdown",
   "id": "d01d790e",
   "metadata": {
    "papermill": {
     "duration": 0.036862,
     "end_time": "2021-09-01T10:48:17.168261",
     "exception": false,
     "start_time": "2021-09-01T10:48:17.131399",
     "status": "completed"
    },
    "tags": []
   },
   "source": [
    "<p id=\"part2\"></p>\n",
    "\n",
    "# <span style=\"font-family: Arials; font-size: 18px; font-style: bold; font-weight: bold; letter-spacing: 2px; color: #DC143C\">2. LIBRARIES & IMPORT DATA SET</span>"
   ]
  },
  {
   "cell_type": "code",
   "execution_count": 1,
   "id": "31c58477",
   "metadata": {
    "execution": {
     "iopub.execute_input": "2021-09-01T10:48:17.252998Z",
     "iopub.status.busy": "2021-09-01T10:48:17.252340Z",
     "iopub.status.idle": "2021-09-01T10:48:18.103871Z",
     "shell.execute_reply": "2021-09-01T10:48:18.103134Z",
     "shell.execute_reply.started": "2021-09-01T10:47:58.197357Z"
    },
    "papermill": {
     "duration": 0.899298,
     "end_time": "2021-09-01T10:48:18.104051",
     "exception": false,
     "start_time": "2021-09-01T10:48:17.204753",
     "status": "completed"
    },
    "tags": []
   },
   "outputs": [],
   "source": [
    "import pandas as pd\n",
    "import matplotlib.pyplot as plt\n",
    "import seaborn as sns\n",
    "import missingno as ms\n"
   ]
  },
  {
   "cell_type": "code",
   "execution_count": 2,
   "id": "1f9a0fb1",
   "metadata": {
    "execution": {
     "iopub.execute_input": "2021-09-01T10:48:18.183707Z",
     "iopub.status.busy": "2021-09-01T10:48:18.183049Z",
     "iopub.status.idle": "2021-09-01T10:48:19.243566Z",
     "shell.execute_reply": "2021-09-01T10:48:19.244120Z",
     "shell.execute_reply.started": "2021-09-01T10:47:58.266784Z"
    },
    "papermill": {
     "duration": 1.102025,
     "end_time": "2021-09-01T10:48:19.244304",
     "exception": false,
     "start_time": "2021-09-01T10:48:18.142279",
     "status": "completed"
    },
    "tags": []
   },
   "outputs": [
    {
     "data": {
      "text/html": [
       "<div>\n",
       "<style scoped>\n",
       "    .dataframe tbody tr th:only-of-type {\n",
       "        vertical-align: middle;\n",
       "    }\n",
       "\n",
       "    .dataframe tbody tr th {\n",
       "        vertical-align: top;\n",
       "    }\n",
       "\n",
       "    .dataframe thead th {\n",
       "        text-align: right;\n",
       "    }\n",
       "</style>\n",
       "<table border=\"1\" class=\"dataframe\">\n",
       "  <thead>\n",
       "    <tr style=\"text-align: right;\">\n",
       "      <th></th>\n",
       "      <th>InvoiceNo</th>\n",
       "      <th>StockCode</th>\n",
       "      <th>Description</th>\n",
       "      <th>Quantity</th>\n",
       "      <th>InvoiceDate</th>\n",
       "      <th>UnitPrice</th>\n",
       "      <th>CustomerID</th>\n",
       "      <th>Country</th>\n",
       "    </tr>\n",
       "  </thead>\n",
       "  <tbody>\n",
       "    <tr>\n",
       "      <th>0</th>\n",
       "      <td>536365</td>\n",
       "      <td>85123A</td>\n",
       "      <td>WHITE HANGING HEART T-LIGHT HOLDER</td>\n",
       "      <td>6</td>\n",
       "      <td>12/1/2010 8:26</td>\n",
       "      <td>2.55</td>\n",
       "      <td>17850.0</td>\n",
       "      <td>United Kingdom</td>\n",
       "    </tr>\n",
       "    <tr>\n",
       "      <th>1</th>\n",
       "      <td>536365</td>\n",
       "      <td>71053</td>\n",
       "      <td>WHITE METAL LANTERN</td>\n",
       "      <td>6</td>\n",
       "      <td>12/1/2010 8:26</td>\n",
       "      <td>3.39</td>\n",
       "      <td>17850.0</td>\n",
       "      <td>United Kingdom</td>\n",
       "    </tr>\n",
       "    <tr>\n",
       "      <th>2</th>\n",
       "      <td>536365</td>\n",
       "      <td>84406B</td>\n",
       "      <td>CREAM CUPID HEARTS COAT HANGER</td>\n",
       "      <td>8</td>\n",
       "      <td>12/1/2010 8:26</td>\n",
       "      <td>2.75</td>\n",
       "      <td>17850.0</td>\n",
       "      <td>United Kingdom</td>\n",
       "    </tr>\n",
       "    <tr>\n",
       "      <th>3</th>\n",
       "      <td>536365</td>\n",
       "      <td>84029G</td>\n",
       "      <td>KNITTED UNION FLAG HOT WATER BOTTLE</td>\n",
       "      <td>6</td>\n",
       "      <td>12/1/2010 8:26</td>\n",
       "      <td>3.39</td>\n",
       "      <td>17850.0</td>\n",
       "      <td>United Kingdom</td>\n",
       "    </tr>\n",
       "    <tr>\n",
       "      <th>4</th>\n",
       "      <td>536365</td>\n",
       "      <td>84029E</td>\n",
       "      <td>RED WOOLLY HOTTIE WHITE HEART.</td>\n",
       "      <td>6</td>\n",
       "      <td>12/1/2010 8:26</td>\n",
       "      <td>3.39</td>\n",
       "      <td>17850.0</td>\n",
       "      <td>United Kingdom</td>\n",
       "    </tr>\n",
       "  </tbody>\n",
       "</table>\n",
       "</div>"
      ],
      "text/plain": [
       "  InvoiceNo StockCode                          Description  Quantity  \\\n",
       "0    536365    85123A   WHITE HANGING HEART T-LIGHT HOLDER         6   \n",
       "1    536365     71053                  WHITE METAL LANTERN         6   \n",
       "2    536365    84406B       CREAM CUPID HEARTS COAT HANGER         8   \n",
       "3    536365    84029G  KNITTED UNION FLAG HOT WATER BOTTLE         6   \n",
       "4    536365    84029E       RED WOOLLY HOTTIE WHITE HEART.         6   \n",
       "\n",
       "      InvoiceDate  UnitPrice  CustomerID         Country  \n",
       "0  12/1/2010 8:26       2.55     17850.0  United Kingdom  \n",
       "1  12/1/2010 8:26       3.39     17850.0  United Kingdom  \n",
       "2  12/1/2010 8:26       2.75     17850.0  United Kingdom  \n",
       "3  12/1/2010 8:26       3.39     17850.0  United Kingdom  \n",
       "4  12/1/2010 8:26       3.39     17850.0  United Kingdom  "
      ]
     },
     "execution_count": 2,
     "metadata": {},
     "output_type": "execute_result"
    }
   ],
   "source": [
    "df=pd.read_csv(\"../input/customersegmentation/Online Retail.csv\")\n",
    "df.head()"
   ]
  },
  {
   "cell_type": "markdown",
   "id": "670cac06",
   "metadata": {
    "papermill": {
     "duration": 0.046445,
     "end_time": "2021-09-01T10:48:19.332209",
     "exception": false,
     "start_time": "2021-09-01T10:48:19.285764",
     "status": "completed"
    },
    "tags": []
   },
   "source": [
    "<p id=\"part3\"></p>\n",
    "\n",
    "# <span style=\"font-family: Arials; font-size: 18px; font-style: bold; font-weight: bold; letter-spacing: 2px; color: #DC143C\">3. DATA EXPLORATION</span>"
   ]
  },
  {
   "cell_type": "code",
   "execution_count": 3,
   "id": "139cc91e",
   "metadata": {
    "execution": {
     "iopub.execute_input": "2021-09-01T10:48:19.413891Z",
     "iopub.status.busy": "2021-09-01T10:48:19.413081Z",
     "iopub.status.idle": "2021-09-01T10:48:19.416687Z",
     "shell.execute_reply": "2021-09-01T10:48:19.416221Z",
     "shell.execute_reply.started": "2021-09-01T10:47:59.014851Z"
    },
    "papermill": {
     "duration": 0.043993,
     "end_time": "2021-09-01T10:48:19.416802",
     "exception": false,
     "start_time": "2021-09-01T10:48:19.372809",
     "status": "completed"
    },
    "tags": []
   },
   "outputs": [
    {
     "data": {
      "text/plain": [
       "(541909, 8)"
      ]
     },
     "execution_count": 3,
     "metadata": {},
     "output_type": "execute_result"
    }
   ],
   "source": [
    "df.shape"
   ]
  },
  {
   "cell_type": "code",
   "execution_count": 4,
   "id": "9fbfcbf5",
   "metadata": {
    "execution": {
     "iopub.execute_input": "2021-09-01T10:48:19.493536Z",
     "iopub.status.busy": "2021-09-01T10:48:19.492670Z",
     "iopub.status.idle": "2021-09-01T10:48:19.567463Z",
     "shell.execute_reply": "2021-09-01T10:48:19.566895Z",
     "shell.execute_reply.started": "2021-09-01T10:47:59.022406Z"
    },
    "papermill": {
     "duration": 0.113908,
     "end_time": "2021-09-01T10:48:19.567585",
     "exception": false,
     "start_time": "2021-09-01T10:48:19.453677",
     "status": "completed"
    },
    "tags": []
   },
   "outputs": [
    {
     "data": {
      "text/html": [
       "<div>\n",
       "<style scoped>\n",
       "    .dataframe tbody tr th:only-of-type {\n",
       "        vertical-align: middle;\n",
       "    }\n",
       "\n",
       "    .dataframe tbody tr th {\n",
       "        vertical-align: top;\n",
       "    }\n",
       "\n",
       "    .dataframe thead th {\n",
       "        text-align: right;\n",
       "    }\n",
       "</style>\n",
       "<table border=\"1\" class=\"dataframe\">\n",
       "  <thead>\n",
       "    <tr style=\"text-align: right;\">\n",
       "      <th></th>\n",
       "      <th>Quantity</th>\n",
       "      <th>UnitPrice</th>\n",
       "      <th>CustomerID</th>\n",
       "    </tr>\n",
       "  </thead>\n",
       "  <tbody>\n",
       "    <tr>\n",
       "      <th>count</th>\n",
       "      <td>541909.000000</td>\n",
       "      <td>541909.000000</td>\n",
       "      <td>406829.000000</td>\n",
       "    </tr>\n",
       "    <tr>\n",
       "      <th>mean</th>\n",
       "      <td>9.552250</td>\n",
       "      <td>4.611114</td>\n",
       "      <td>15287.690570</td>\n",
       "    </tr>\n",
       "    <tr>\n",
       "      <th>std</th>\n",
       "      <td>218.081158</td>\n",
       "      <td>96.759853</td>\n",
       "      <td>1713.600303</td>\n",
       "    </tr>\n",
       "    <tr>\n",
       "      <th>min</th>\n",
       "      <td>-80995.000000</td>\n",
       "      <td>-11062.060000</td>\n",
       "      <td>12346.000000</td>\n",
       "    </tr>\n",
       "    <tr>\n",
       "      <th>25%</th>\n",
       "      <td>1.000000</td>\n",
       "      <td>1.250000</td>\n",
       "      <td>13953.000000</td>\n",
       "    </tr>\n",
       "    <tr>\n",
       "      <th>50%</th>\n",
       "      <td>3.000000</td>\n",
       "      <td>2.080000</td>\n",
       "      <td>15152.000000</td>\n",
       "    </tr>\n",
       "    <tr>\n",
       "      <th>75%</th>\n",
       "      <td>10.000000</td>\n",
       "      <td>4.130000</td>\n",
       "      <td>16791.000000</td>\n",
       "    </tr>\n",
       "    <tr>\n",
       "      <th>max</th>\n",
       "      <td>80995.000000</td>\n",
       "      <td>38970.000000</td>\n",
       "      <td>18287.000000</td>\n",
       "    </tr>\n",
       "  </tbody>\n",
       "</table>\n",
       "</div>"
      ],
      "text/plain": [
       "            Quantity      UnitPrice     CustomerID\n",
       "count  541909.000000  541909.000000  406829.000000\n",
       "mean        9.552250       4.611114   15287.690570\n",
       "std       218.081158      96.759853    1713.600303\n",
       "min    -80995.000000  -11062.060000   12346.000000\n",
       "25%         1.000000       1.250000   13953.000000\n",
       "50%         3.000000       2.080000   15152.000000\n",
       "75%        10.000000       4.130000   16791.000000\n",
       "max     80995.000000   38970.000000   18287.000000"
      ]
     },
     "execution_count": 4,
     "metadata": {},
     "output_type": "execute_result"
    }
   ],
   "source": [
    "df.describe()"
   ]
  },
  {
   "cell_type": "code",
   "execution_count": 5,
   "id": "1302d9fe",
   "metadata": {
    "execution": {
     "iopub.execute_input": "2021-09-01T10:48:19.646131Z",
     "iopub.status.busy": "2021-09-01T10:48:19.645463Z",
     "iopub.status.idle": "2021-09-01T10:48:19.901076Z",
     "shell.execute_reply": "2021-09-01T10:48:19.901535Z",
     "shell.execute_reply.started": "2021-09-01T10:47:59.102825Z"
    },
    "papermill": {
     "duration": 0.297239,
     "end_time": "2021-09-01T10:48:19.901705",
     "exception": false,
     "start_time": "2021-09-01T10:48:19.604466",
     "status": "completed"
    },
    "tags": []
   },
   "outputs": [
    {
     "name": "stdout",
     "output_type": "stream",
     "text": [
      "<class 'pandas.core.frame.DataFrame'>\n",
      "RangeIndex: 541909 entries, 0 to 541908\n",
      "Data columns (total 8 columns):\n",
      " #   Column       Non-Null Count   Dtype  \n",
      "---  ------       --------------   -----  \n",
      " 0   InvoiceNo    541909 non-null  object \n",
      " 1   StockCode    541909 non-null  object \n",
      " 2   Description  540455 non-null  object \n",
      " 3   Quantity     541909 non-null  int64  \n",
      " 4   InvoiceDate  541909 non-null  object \n",
      " 5   UnitPrice    541909 non-null  float64\n",
      " 6   CustomerID   406829 non-null  float64\n",
      " 7   Country      541909 non-null  object \n",
      "dtypes: float64(2), int64(1), object(5)\n",
      "memory usage: 33.1+ MB\n"
     ]
    }
   ],
   "source": [
    "df.info()"
   ]
  },
  {
   "cell_type": "code",
   "execution_count": 6,
   "id": "8d2afee2",
   "metadata": {
    "execution": {
     "iopub.execute_input": "2021-09-01T10:48:19.977486Z",
     "iopub.status.busy": "2021-09-01T10:48:19.976933Z",
     "iopub.status.idle": "2021-09-01T10:48:20.358724Z",
     "shell.execute_reply": "2021-09-01T10:48:20.359131Z",
     "shell.execute_reply.started": "2021-09-01T10:47:59.386433Z"
    },
    "papermill": {
     "duration": 0.421012,
     "end_time": "2021-09-01T10:48:20.359282",
     "exception": false,
     "start_time": "2021-09-01T10:48:19.938270",
     "status": "completed"
    },
    "tags": []
   },
   "outputs": [
    {
     "data": {
      "text/plain": [
       "5268"
      ]
     },
     "execution_count": 6,
     "metadata": {},
     "output_type": "execute_result"
    }
   ],
   "source": [
    "df.duplicated().sum() #let's handle the duplicacy"
   ]
  },
  {
   "cell_type": "code",
   "execution_count": 7,
   "id": "32f5aca7",
   "metadata": {
    "execution": {
     "iopub.execute_input": "2021-09-01T10:48:20.445450Z",
     "iopub.status.busy": "2021-09-01T10:48:20.444565Z",
     "iopub.status.idle": "2021-09-01T10:48:20.855453Z",
     "shell.execute_reply": "2021-09-01T10:48:20.854936Z",
     "shell.execute_reply.started": "2021-09-01T10:47:59.796660Z"
    },
    "papermill": {
     "duration": 0.459251,
     "end_time": "2021-09-01T10:48:20.855589",
     "exception": false,
     "start_time": "2021-09-01T10:48:20.396338",
     "status": "completed"
    },
    "tags": []
   },
   "outputs": [],
   "source": [
    "df.drop_duplicates(inplace=True)"
   ]
  },
  {
   "cell_type": "code",
   "execution_count": 8,
   "id": "e04d3001",
   "metadata": {
    "execution": {
     "iopub.execute_input": "2021-09-01T10:48:20.951121Z",
     "iopub.status.busy": "2021-09-01T10:48:20.950450Z",
     "iopub.status.idle": "2021-09-01T10:48:22.377790Z",
     "shell.execute_reply": "2021-09-01T10:48:22.378599Z",
     "shell.execute_reply.started": "2021-09-01T10:48:00.215778Z"
    },
    "papermill": {
     "duration": 1.485627,
     "end_time": "2021-09-01T10:48:22.378884",
     "exception": false,
     "start_time": "2021-09-01T10:48:20.893257",
     "status": "completed"
    },
    "tags": []
   },
   "outputs": [
    {
     "data": {
      "image/png": "[encoded data removed]",
      "text/plain": [
       "<Figure size 720x432 with 3 Axes>"
      ]
     },
     "metadata": {},
     "output_type": "display_data"
    }
   ],
   "source": [
    "fig, ax = plt.subplots(figsize=(10,6))\n",
    "ax.set_facecolor('#f5f6f6')\n",
    "fig.patch.set_facecolor('#f5f6f6')\n",
    "\n",
    "color = ['grey','grey','grey','grey','grey','grey','#E50914','#E50914','#E50914','#E50914']\n",
    "ms.bar(df,fontsize =16, color = color, sort = 'descending', ax = ax)\n",
    "\n",
    "ax.text(-1,1.3,'Visualization of the Nullity of The Dataset' ,{'font':'serif', 'color':'black','weight':'bold','size':24})\n",
    "ax.text(-1,1.2,'Clearly seen that most of the missing values \\nare in Cust0omer-ID, Description',{'font':'serif', 'color':'black','weight':'bold','size':12})\n",
    "fig.show()"
   ]
  },
  {
   "cell_type": "markdown",
   "id": "c87b15b1",
   "metadata": {
    "papermill": {
     "duration": 0.041005,
     "end_time": "2021-09-01T10:48:22.466886",
     "exception": false,
     "start_time": "2021-09-01T10:48:22.425881",
     "status": "completed"
    },
    "tags": []
   },
   "source": [
    "<p style=\"font-family: Arials; font-size: 18px; text-align: center; color: Black;\">As we know our data set has around 5.3 lakh rows . so instead of imputing the missing values let's remove those rows:"
   ]
  },
  {
   "cell_type": "code",
   "execution_count": 9,
   "id": "2e06e693",
   "metadata": {
    "execution": {
     "iopub.execute_input": "2021-09-01T10:48:22.550330Z",
     "iopub.status.busy": "2021-09-01T10:48:22.549749Z",
     "iopub.status.idle": "2021-09-01T10:48:22.842796Z",
     "shell.execute_reply": "2021-09-01T10:48:22.843304Z",
     "shell.execute_reply.started": "2021-09-01T10:48:01.497025Z"
    },
    "papermill": {
     "duration": 0.336336,
     "end_time": "2021-09-01T10:48:22.843477",
     "exception": false,
     "start_time": "2021-09-01T10:48:22.507141",
     "status": "completed"
    },
    "tags": []
   },
   "outputs": [
    {
     "data": {
      "text/plain": [
       "(401604, 8)"
      ]
     },
     "execution_count": 9,
     "metadata": {},
     "output_type": "execute_result"
    }
   ],
   "source": [
    "\n",
    "# drop all rows having missing values\n",
    "df = df.dropna()\n",
    "df.shape"
   ]
  },
  {
   "cell_type": "markdown",
   "id": "1efa1205",
   "metadata": {
    "papermill": {
     "duration": 0.041175,
     "end_time": "2021-09-01T10:48:22.926000",
     "exception": false,
     "start_time": "2021-09-01T10:48:22.884825",
     "status": "completed"
    },
    "tags": []
   },
   "source": [
    "<p style=\"font-family: Arials; font-size: 18px; text-align: center; color: #DC143C\">Let's make another column amount"
   ]
  },
  {
   "cell_type": "code",
   "execution_count": 10,
   "id": "80b63f39",
   "metadata": {
    "execution": {
     "iopub.execute_input": "2021-09-01T10:48:23.009469Z",
     "iopub.status.busy": "2021-09-01T10:48:23.008929Z",
     "iopub.status.idle": "2021-09-01T10:48:23.015764Z",
     "shell.execute_reply": "2021-09-01T10:48:23.016202Z",
     "shell.execute_reply.started": "2021-09-01T10:48:01.827871Z"
    },
    "papermill": {
     "duration": 0.049557,
     "end_time": "2021-09-01T10:48:23.016338",
     "exception": false,
     "start_time": "2021-09-01T10:48:22.966781",
     "status": "completed"
    },
    "tags": []
   },
   "outputs": [],
   "source": [
    "df[\"amount\"]=df[\"Quantity\"]*df[\"UnitPrice\"]"
   ]
  },
  {
   "cell_type": "code",
   "execution_count": 11,
   "id": "cd4def0e",
   "metadata": {
    "execution": {
     "iopub.execute_input": "2021-09-01T10:48:23.099161Z",
     "iopub.status.busy": "2021-09-01T10:48:23.098654Z",
     "iopub.status.idle": "2021-09-01T10:48:23.112269Z",
     "shell.execute_reply": "2021-09-01T10:48:23.112745Z",
     "shell.execute_reply.started": "2021-09-01T10:48:01.837363Z"
    },
    "papermill": {
     "duration": 0.055372,
     "end_time": "2021-09-01T10:48:23.112886",
     "exception": false,
     "start_time": "2021-09-01T10:48:23.057514",
     "status": "completed"
    },
    "tags": []
   },
   "outputs": [
    {
     "data": {
      "text/html": [
       "<div>\n",
       "<style scoped>\n",
       "    .dataframe tbody tr th:only-of-type {\n",
       "        vertical-align: middle;\n",
       "    }\n",
       "\n",
       "    .dataframe tbody tr th {\n",
       "        vertical-align: top;\n",
       "    }\n",
       "\n",
       "    .dataframe thead th {\n",
       "        text-align: right;\n",
       "    }\n",
       "</style>\n",
       "<table border=\"1\" class=\"dataframe\">\n",
       "  <thead>\n",
       "    <tr style=\"text-align: right;\">\n",
       "      <th></th>\n",
       "      <th>InvoiceNo</th>\n",
       "      <th>StockCode</th>\n",
       "      <th>Description</th>\n",
       "      <th>Quantity</th>\n",
       "      <th>InvoiceDate</th>\n",
       "      <th>UnitPrice</th>\n",
       "      <th>CustomerID</th>\n",
       "      <th>Country</th>\n",
       "      <th>amount</th>\n",
       "    </tr>\n",
       "  </thead>\n",
       "  <tbody>\n",
       "    <tr>\n",
       "      <th>0</th>\n",
       "      <td>536365</td>\n",
       "      <td>85123A</td>\n",
       "      <td>WHITE HANGING HEART T-LIGHT HOLDER</td>\n",
       "      <td>6</td>\n",
       "      <td>12/1/2010 8:26</td>\n",
       "      <td>2.55</td>\n",
       "      <td>17850.0</td>\n",
       "      <td>United Kingdom</td>\n",
       "      <td>15.30</td>\n",
       "    </tr>\n",
       "    <tr>\n",
       "      <th>1</th>\n",
       "      <td>536365</td>\n",
       "      <td>71053</td>\n",
       "      <td>WHITE METAL LANTERN</td>\n",
       "      <td>6</td>\n",
       "      <td>12/1/2010 8:26</td>\n",
       "      <td>3.39</td>\n",
       "      <td>17850.0</td>\n",
       "      <td>United Kingdom</td>\n",
       "      <td>20.34</td>\n",
       "    </tr>\n",
       "    <tr>\n",
       "      <th>2</th>\n",
       "      <td>536365</td>\n",
       "      <td>84406B</td>\n",
       "      <td>CREAM CUPID HEARTS COAT HANGER</td>\n",
       "      <td>8</td>\n",
       "      <td>12/1/2010 8:26</td>\n",
       "      <td>2.75</td>\n",
       "      <td>17850.0</td>\n",
       "      <td>United Kingdom</td>\n",
       "      <td>22.00</td>\n",
       "    </tr>\n",
       "    <tr>\n",
       "      <th>3</th>\n",
       "      <td>536365</td>\n",
       "      <td>84029G</td>\n",
       "      <td>KNITTED UNION FLAG HOT WATER BOTTLE</td>\n",
       "      <td>6</td>\n",
       "      <td>12/1/2010 8:26</td>\n",
       "      <td>3.39</td>\n",
       "      <td>17850.0</td>\n",
       "      <td>United Kingdom</td>\n",
       "      <td>20.34</td>\n",
       "    </tr>\n",
       "    <tr>\n",
       "      <th>4</th>\n",
       "      <td>536365</td>\n",
       "      <td>84029E</td>\n",
       "      <td>RED WOOLLY HOTTIE WHITE HEART.</td>\n",
       "      <td>6</td>\n",
       "      <td>12/1/2010 8:26</td>\n",
       "      <td>3.39</td>\n",
       "      <td>17850.0</td>\n",
       "      <td>United Kingdom</td>\n",
       "      <td>20.34</td>\n",
       "    </tr>\n",
       "  </tbody>\n",
       "</table>\n",
       "</div>"
      ],
      "text/plain": [
       "  InvoiceNo StockCode                          Description  Quantity  \\\n",
       "0    536365    85123A   WHITE HANGING HEART T-LIGHT HOLDER         6   \n",
       "1    536365     71053                  WHITE METAL LANTERN         6   \n",
       "2    536365    84406B       CREAM CUPID HEARTS COAT HANGER         8   \n",
       "3    536365    84029G  KNITTED UNION FLAG HOT WATER BOTTLE         6   \n",
       "4    536365    84029E       RED WOOLLY HOTTIE WHITE HEART.         6   \n",
       "\n",
       "      InvoiceDate  UnitPrice  CustomerID         Country  amount  \n",
       "0  12/1/2010 8:26       2.55     17850.0  United Kingdom   15.30  \n",
       "1  12/1/2010 8:26       3.39     17850.0  United Kingdom   20.34  \n",
       "2  12/1/2010 8:26       2.75     17850.0  United Kingdom   22.00  \n",
       "3  12/1/2010 8:26       3.39     17850.0  United Kingdom   20.34  \n",
       "4  12/1/2010 8:26       3.39     17850.0  United Kingdom   20.34  "
      ]
     },
     "execution_count": 11,
     "metadata": {},
     "output_type": "execute_result"
    }
   ],
   "source": [
    "df.head()"
   ]
  },
  {
   "cell_type": "markdown",
   "id": "180e4a00",
   "metadata": {
    "papermill": {
     "duration": 0.04143,
     "end_time": "2021-09-01T10:48:23.193570",
     "exception": false,
     "start_time": "2021-09-01T10:48:23.152140",
     "status": "completed"
    },
    "tags": []
   },
   "source": [
    "<p id=\"part5\"></p>\n",
    "\n",
    "# <span style=\"font-family: Arials; font-size: 18px; font-style: bold; font-weight: bold; letter-spacing: 2px; color: #DC143C\">5. MAKE DATA SET READY FOR MODELLING</span>"
   ]
  },
  {
   "cell_type": "markdown",
   "id": "238576d4",
   "metadata": {
    "papermill": {
     "duration": 0.03873,
     "end_time": "2021-09-01T10:48:23.271953",
     "exception": false,
     "start_time": "2021-09-01T10:48:23.233223",
     "status": "completed"
    },
    "tags": []
   },
   "source": [
    "<p style=\"font-family: Arials; font-size: 24px; text-align: center; color: #DC143C\">RFM Analysis"
   ]
  },
  {
   "cell_type": "markdown",
   "id": "898caffe",
   "metadata": {
    "papermill": {
     "duration": 0.039608,
     "end_time": "2021-09-01T10:48:23.351561",
     "exception": false,
     "start_time": "2021-09-01T10:48:23.311953",
     "status": "completed"
    },
    "tags": []
   },
   "source": [
    "<p style=\"font-family: Arials; font-size: 18px; text-align: center; color: Black;\">RFM (Recency, Frequency, Monetary) analysis is a proven marketing model for behavior based customer segmentation. It groups customers based on their transaction history – how recently, how often and how much did they buy.\n",
    "RFM helps divide customers into various categories or clusters to identify customers who are more likely to respond to promotions and also for future personalization services."
   ]
  },
  {
   "cell_type": "markdown",
   "id": "099f1c14",
   "metadata": {
    "papermill": {
     "duration": 0.03994,
     "end_time": "2021-09-01T10:48:23.431740",
     "exception": false,
     "start_time": "2021-09-01T10:48:23.391800",
     "status": "completed"
    },
    "tags": []
   },
   "source": [
    "<p style=\"font-family: Arials; font-size: 24px; text-align: center; color: #DC143C\">What is Recency, Frequency and Monetary analysis?"
   ]
  },
  {
   "cell_type": "markdown",
   "id": "5145b71a",
   "metadata": {
    "papermill": {
     "duration": 0.040887,
     "end_time": "2021-09-01T10:48:23.514748",
     "exception": false,
     "start_time": "2021-09-01T10:48:23.473861",
     "status": "completed"
    },
    "tags": []
   },
   "source": [
    "<p style=\"font-family: Arials; font-size: 18px; text-align: center; color: Black;\">Valuing customers based on a single parameter is insufficient.\n",
    "    <br>\n",
    "For example, you can say that people who spend the most are your best customers. Most of us agree and think the same.\n",
    "    <br>\n",
    "But wait! What if they purchased only once? Or a very long time ago? What if they are no longer using your product?\n",
    "    <br>\n",
    "So..can they still be considered your best customers? Probably not.\n",
    "Judging customer value on just one aspect will give you an inaccurate report of your customer base and their lifetime value.\n",
    "    <br>\n",
    "That’s why, RFM model combines three different customer attributes to rank customers.\n",
    "<br>\n",
    "If they bought in recent past, they get higher points. If they bought many times, they get higher score. And if they spent bigger, they get more points. Combine these three scores to create the RFM score.\n",
    "<br>\n",
    "Finally you can segment your customer database into different groups based on this Recency – Frequency – Monetary score."
   ]
  },
  {
   "cell_type": "markdown",
   "id": "cb78acb7",
   "metadata": {
    "papermill": {
     "duration": 0.040479,
     "end_time": "2021-09-01T10:48:23.596251",
     "exception": false,
     "start_time": "2021-09-01T10:48:23.555772",
     "status": "completed"
    },
    "tags": []
   },
   "source": [
    "<p style=\"font-family: Arials; font-size: 24px; text-align: center; color: #DC143C\">Let's make new columns based on RFM"
   ]
  },
  {
   "cell_type": "markdown",
   "id": "f0164a4c",
   "metadata": {
    "papermill": {
     "duration": 0.039333,
     "end_time": "2021-09-01T10:48:23.676164",
     "exception": false,
     "start_time": "2021-09-01T10:48:23.636831",
     "status": "completed"
    },
    "tags": []
   },
   "source": [
    "<p style=\"font-family: Arials; font-size: 24px; color: #DC143C\">01. MONETARY"
   ]
  },
  {
   "cell_type": "code",
   "execution_count": 12,
   "id": "847438f7",
   "metadata": {
    "execution": {
     "iopub.execute_input": "2021-09-01T10:48:23.759160Z",
     "iopub.status.busy": "2021-09-01T10:48:23.758598Z",
     "iopub.status.idle": "2021-09-01T10:48:23.779985Z",
     "shell.execute_reply": "2021-09-01T10:48:23.780474Z",
     "shell.execute_reply.started": "2021-09-01T10:48:01.863457Z"
    },
    "papermill": {
     "duration": 0.063835,
     "end_time": "2021-09-01T10:48:23.780620",
     "exception": false,
     "start_time": "2021-09-01T10:48:23.716785",
     "status": "completed"
    },
    "tags": []
   },
   "outputs": [
    {
     "data": {
      "text/html": [
       "<div>\n",
       "<style scoped>\n",
       "    .dataframe tbody tr th:only-of-type {\n",
       "        vertical-align: middle;\n",
       "    }\n",
       "\n",
       "    .dataframe tbody tr th {\n",
       "        vertical-align: top;\n",
       "    }\n",
       "\n",
       "    .dataframe thead th {\n",
       "        text-align: right;\n",
       "    }\n",
       "</style>\n",
       "<table border=\"1\" class=\"dataframe\">\n",
       "  <thead>\n",
       "    <tr style=\"text-align: right;\">\n",
       "      <th></th>\n",
       "      <th>CustomerID</th>\n",
       "      <th>Monetary</th>\n",
       "    </tr>\n",
       "  </thead>\n",
       "  <tbody>\n",
       "    <tr>\n",
       "      <th>0</th>\n",
       "      <td>12346.0</td>\n",
       "      <td>0.00</td>\n",
       "    </tr>\n",
       "    <tr>\n",
       "      <th>1</th>\n",
       "      <td>12347.0</td>\n",
       "      <td>4310.00</td>\n",
       "    </tr>\n",
       "    <tr>\n",
       "      <th>2</th>\n",
       "      <td>12348.0</td>\n",
       "      <td>1797.24</td>\n",
       "    </tr>\n",
       "    <tr>\n",
       "      <th>3</th>\n",
       "      <td>12349.0</td>\n",
       "      <td>1757.55</td>\n",
       "    </tr>\n",
       "    <tr>\n",
       "      <th>4</th>\n",
       "      <td>12350.0</td>\n",
       "      <td>334.40</td>\n",
       "    </tr>\n",
       "  </tbody>\n",
       "</table>\n",
       "</div>"
      ],
      "text/plain": [
       "   CustomerID  Monetary\n",
       "0     12346.0      0.00\n",
       "1     12347.0   4310.00\n",
       "2     12348.0   1797.24\n",
       "3     12349.0   1757.55\n",
       "4     12350.0    334.40"
      ]
     },
     "execution_count": 12,
     "metadata": {},
     "output_type": "execute_result"
    }
   ],
   "source": [
    "rmf_df=df.groupby(df[\"CustomerID\"])[\"amount\"].sum()\n",
    "rmf_df=rmf_df.reset_index()\n",
    "rmf_df.columns=[\"CustomerID\",\"Monetary\"]\n",
    "rmf_df.head()"
   ]
  },
  {
   "cell_type": "markdown",
   "id": "928db32b",
   "metadata": {
    "papermill": {
     "duration": 0.040936,
     "end_time": "2021-09-01T10:48:23.862941",
     "exception": false,
     "start_time": "2021-09-01T10:48:23.822005",
     "status": "completed"
    },
    "tags": []
   },
   "source": [
    "<p style=\"font-family: Arials; font-size: 24px; color: #DC143C\">02. FREQUENCY"
   ]
  },
  {
   "cell_type": "code",
   "execution_count": 13,
   "id": "89e59998",
   "metadata": {
    "execution": {
     "iopub.execute_input": "2021-09-01T10:48:23.950156Z",
     "iopub.status.busy": "2021-09-01T10:48:23.949589Z",
     "iopub.status.idle": "2021-09-01T10:48:24.004485Z",
     "shell.execute_reply": "2021-09-01T10:48:24.004001Z",
     "shell.execute_reply.started": "2021-09-01T10:48:01.899726Z"
    },
    "papermill": {
     "duration": 0.101223,
     "end_time": "2021-09-01T10:48:24.004634",
     "exception": false,
     "start_time": "2021-09-01T10:48:23.903411",
     "status": "completed"
    },
    "tags": []
   },
   "outputs": [
    {
     "data": {
      "text/html": [
       "<div>\n",
       "<style scoped>\n",
       "    .dataframe tbody tr th:only-of-type {\n",
       "        vertical-align: middle;\n",
       "    }\n",
       "\n",
       "    .dataframe tbody tr th {\n",
       "        vertical-align: top;\n",
       "    }\n",
       "\n",
       "    .dataframe thead th {\n",
       "        text-align: right;\n",
       "    }\n",
       "</style>\n",
       "<table border=\"1\" class=\"dataframe\">\n",
       "  <thead>\n",
       "    <tr style=\"text-align: right;\">\n",
       "      <th></th>\n",
       "      <th>CustomerID</th>\n",
       "      <th>frequency</th>\n",
       "    </tr>\n",
       "  </thead>\n",
       "  <tbody>\n",
       "    <tr>\n",
       "      <th>0</th>\n",
       "      <td>12346.0</td>\n",
       "      <td>2</td>\n",
       "    </tr>\n",
       "    <tr>\n",
       "      <th>1</th>\n",
       "      <td>12347.0</td>\n",
       "      <td>182</td>\n",
       "    </tr>\n",
       "    <tr>\n",
       "      <th>2</th>\n",
       "      <td>12348.0</td>\n",
       "      <td>31</td>\n",
       "    </tr>\n",
       "    <tr>\n",
       "      <th>3</th>\n",
       "      <td>12349.0</td>\n",
       "      <td>73</td>\n",
       "    </tr>\n",
       "    <tr>\n",
       "      <th>4</th>\n",
       "      <td>12350.0</td>\n",
       "      <td>17</td>\n",
       "    </tr>\n",
       "  </tbody>\n",
       "</table>\n",
       "</div>"
      ],
      "text/plain": [
       "   CustomerID  frequency\n",
       "0     12346.0          2\n",
       "1     12347.0        182\n",
       "2     12348.0         31\n",
       "3     12349.0         73\n",
       "4     12350.0         17"
      ]
     },
     "execution_count": 13,
     "metadata": {},
     "output_type": "execute_result"
    }
   ],
   "source": [
    "frequency =df.groupby(df[\"CustomerID\"])[\"InvoiceNo\"].count()\n",
    "frequency =frequency .reset_index()\n",
    "frequency.columns = ['CustomerID', 'frequency']\n",
    "frequency .head()"
   ]
  },
  {
   "cell_type": "code",
   "execution_count": 14,
   "id": "5d7abcc7",
   "metadata": {
    "execution": {
     "iopub.execute_input": "2021-09-01T10:48:24.094066Z",
     "iopub.status.busy": "2021-09-01T10:48:24.093373Z",
     "iopub.status.idle": "2021-09-01T10:48:24.109845Z",
     "shell.execute_reply": "2021-09-01T10:48:24.109347Z",
     "shell.execute_reply.started": "2021-09-01T10:48:01.967375Z"
    },
    "papermill": {
     "duration": 0.064992,
     "end_time": "2021-09-01T10:48:24.109963",
     "exception": false,
     "start_time": "2021-09-01T10:48:24.044971",
     "status": "completed"
    },
    "tags": []
   },
   "outputs": [
    {
     "data": {
      "text/html": [
       "<div>\n",
       "<style scoped>\n",
       "    .dataframe tbody tr th:only-of-type {\n",
       "        vertical-align: middle;\n",
       "    }\n",
       "\n",
       "    .dataframe tbody tr th {\n",
       "        vertical-align: top;\n",
       "    }\n",
       "\n",
       "    .dataframe thead th {\n",
       "        text-align: right;\n",
       "    }\n",
       "</style>\n",
       "<table border=\"1\" class=\"dataframe\">\n",
       "  <thead>\n",
       "    <tr style=\"text-align: right;\">\n",
       "      <th></th>\n",
       "      <th>CustomerID</th>\n",
       "      <th>Monetary</th>\n",
       "      <th>frequency</th>\n",
       "    </tr>\n",
       "  </thead>\n",
       "  <tbody>\n",
       "    <tr>\n",
       "      <th>0</th>\n",
       "      <td>12346.0</td>\n",
       "      <td>0.00</td>\n",
       "      <td>2</td>\n",
       "    </tr>\n",
       "    <tr>\n",
       "      <th>1</th>\n",
       "      <td>12347.0</td>\n",
       "      <td>4310.00</td>\n",
       "      <td>182</td>\n",
       "    </tr>\n",
       "    <tr>\n",
       "      <th>2</th>\n",
       "      <td>12348.0</td>\n",
       "      <td>1797.24</td>\n",
       "      <td>31</td>\n",
       "    </tr>\n",
       "    <tr>\n",
       "      <th>3</th>\n",
       "      <td>12349.0</td>\n",
       "      <td>1757.55</td>\n",
       "      <td>73</td>\n",
       "    </tr>\n",
       "    <tr>\n",
       "      <th>4</th>\n",
       "      <td>12350.0</td>\n",
       "      <td>334.40</td>\n",
       "      <td>17</td>\n",
       "    </tr>\n",
       "  </tbody>\n",
       "</table>\n",
       "</div>"
      ],
      "text/plain": [
       "   CustomerID  Monetary  frequency\n",
       "0     12346.0      0.00          2\n",
       "1     12347.0   4310.00        182\n",
       "2     12348.0   1797.24         31\n",
       "3     12349.0   1757.55         73\n",
       "4     12350.0    334.40         17"
      ]
     },
     "execution_count": 14,
     "metadata": {},
     "output_type": "execute_result"
    }
   ],
   "source": [
    "# merge the two dfs\n",
    "rmf_df = pd.merge(rmf_df, frequency, on='CustomerID', how='inner')\n",
    "rmf_df.head()"
   ]
  },
  {
   "cell_type": "markdown",
   "id": "31031b45",
   "metadata": {
    "papermill": {
     "duration": 0.043159,
     "end_time": "2021-09-01T10:48:24.194626",
     "exception": false,
     "start_time": "2021-09-01T10:48:24.151467",
     "status": "completed"
    },
    "tags": []
   },
   "source": [
    "<p style=\"font-family: Arials; font-size: 24px; color: #DC143C\">03. RECENCY"
   ]
  },
  {
   "cell_type": "code",
   "execution_count": 15,
   "id": "77f5d693",
   "metadata": {
    "execution": {
     "iopub.execute_input": "2021-09-01T10:48:24.303206Z",
     "iopub.status.busy": "2021-09-01T10:48:24.302627Z",
     "iopub.status.idle": "2021-09-01T10:48:26.223021Z",
     "shell.execute_reply": "2021-09-01T10:48:26.222505Z"
    },
    "papermill": {
     "duration": 1.986606,
     "end_time": "2021-09-01T10:48:26.223144",
     "exception": false,
     "start_time": "2021-09-01T10:48:24.236538",
     "status": "completed"
    },
    "tags": []
   },
   "outputs": [],
   "source": [
    " df[\"InvoiceDate\"]=pd.to_datetime(df['InvoiceDate'])\n",
    "                "
   ]
  },
  {
   "cell_type": "code",
   "execution_count": 16,
   "id": "8b6bd9a8",
   "metadata": {
    "execution": {
     "iopub.execute_input": "2021-09-01T10:48:26.670304Z",
     "iopub.status.busy": "2021-09-01T10:48:26.490925Z",
     "iopub.status.idle": "2021-09-01T10:48:27.269432Z",
     "shell.execute_reply": "2021-09-01T10:48:27.268779Z"
    },
    "papermill": {
     "duration": 1.004149,
     "end_time": "2021-09-01T10:48:27.269593",
     "exception": false,
     "start_time": "2021-09-01T10:48:26.265444",
     "status": "completed"
    },
    "tags": []
   },
   "outputs": [
    {
     "data": {
      "text/plain": [
       "Timestamp('2011-12-09 12:50:00')"
      ]
     },
     "execution_count": 16,
     "metadata": {},
     "output_type": "execute_result"
    }
   ],
   "source": [
    "# compute the max date\n",
    "max_date = max(df['InvoiceDate'])\n",
    "max_date"
   ]
  },
  {
   "cell_type": "code",
   "execution_count": 17,
   "id": "af64ca04",
   "metadata": {
    "execution": {
     "iopub.execute_input": "2021-09-01T10:48:27.361562Z",
     "iopub.status.busy": "2021-09-01T10:48:27.361019Z",
     "iopub.status.idle": "2021-09-01T10:48:27.380584Z",
     "shell.execute_reply": "2021-09-01T10:48:27.380059Z"
    },
    "papermill": {
     "duration": 0.065032,
     "end_time": "2021-09-01T10:48:27.380720",
     "exception": false,
     "start_time": "2021-09-01T10:48:27.315688",
     "status": "completed"
    },
    "tags": []
   },
   "outputs": [
    {
     "data": {
      "text/html": [
       "<div>\n",
       "<style scoped>\n",
       "    .dataframe tbody tr th:only-of-type {\n",
       "        vertical-align: middle;\n",
       "    }\n",
       "\n",
       "    .dataframe tbody tr th {\n",
       "        vertical-align: top;\n",
       "    }\n",
       "\n",
       "    .dataframe thead th {\n",
       "        text-align: right;\n",
       "    }\n",
       "</style>\n",
       "<table border=\"1\" class=\"dataframe\">\n",
       "  <thead>\n",
       "    <tr style=\"text-align: right;\">\n",
       "      <th></th>\n",
       "      <th>InvoiceNo</th>\n",
       "      <th>StockCode</th>\n",
       "      <th>Description</th>\n",
       "      <th>Quantity</th>\n",
       "      <th>InvoiceDate</th>\n",
       "      <th>UnitPrice</th>\n",
       "      <th>CustomerID</th>\n",
       "      <th>Country</th>\n",
       "      <th>amount</th>\n",
       "      <th>diff</th>\n",
       "    </tr>\n",
       "  </thead>\n",
       "  <tbody>\n",
       "    <tr>\n",
       "      <th>0</th>\n",
       "      <td>536365</td>\n",
       "      <td>85123A</td>\n",
       "      <td>WHITE HANGING HEART T-LIGHT HOLDER</td>\n",
       "      <td>6</td>\n",
       "      <td>2010-12-01 08:26:00</td>\n",
       "      <td>2.55</td>\n",
       "      <td>17850.0</td>\n",
       "      <td>United Kingdom</td>\n",
       "      <td>15.30</td>\n",
       "      <td>373 days 04:24:00</td>\n",
       "    </tr>\n",
       "    <tr>\n",
       "      <th>1</th>\n",
       "      <td>536365</td>\n",
       "      <td>71053</td>\n",
       "      <td>WHITE METAL LANTERN</td>\n",
       "      <td>6</td>\n",
       "      <td>2010-12-01 08:26:00</td>\n",
       "      <td>3.39</td>\n",
       "      <td>17850.0</td>\n",
       "      <td>United Kingdom</td>\n",
       "      <td>20.34</td>\n",
       "      <td>373 days 04:24:00</td>\n",
       "    </tr>\n",
       "    <tr>\n",
       "      <th>2</th>\n",
       "      <td>536365</td>\n",
       "      <td>84406B</td>\n",
       "      <td>CREAM CUPID HEARTS COAT HANGER</td>\n",
       "      <td>8</td>\n",
       "      <td>2010-12-01 08:26:00</td>\n",
       "      <td>2.75</td>\n",
       "      <td>17850.0</td>\n",
       "      <td>United Kingdom</td>\n",
       "      <td>22.00</td>\n",
       "      <td>373 days 04:24:00</td>\n",
       "    </tr>\n",
       "    <tr>\n",
       "      <th>3</th>\n",
       "      <td>536365</td>\n",
       "      <td>84029G</td>\n",
       "      <td>KNITTED UNION FLAG HOT WATER BOTTLE</td>\n",
       "      <td>6</td>\n",
       "      <td>2010-12-01 08:26:00</td>\n",
       "      <td>3.39</td>\n",
       "      <td>17850.0</td>\n",
       "      <td>United Kingdom</td>\n",
       "      <td>20.34</td>\n",
       "      <td>373 days 04:24:00</td>\n",
       "    </tr>\n",
       "    <tr>\n",
       "      <th>4</th>\n",
       "      <td>536365</td>\n",
       "      <td>84029E</td>\n",
       "      <td>RED WOOLLY HOTTIE WHITE HEART.</td>\n",
       "      <td>6</td>\n",
       "      <td>2010-12-01 08:26:00</td>\n",
       "      <td>3.39</td>\n",
       "      <td>17850.0</td>\n",
       "      <td>United Kingdom</td>\n",
       "      <td>20.34</td>\n",
       "      <td>373 days 04:24:00</td>\n",
       "    </tr>\n",
       "  </tbody>\n",
       "</table>\n",
       "</div>"
      ],
      "text/plain": [
       "  InvoiceNo StockCode                          Description  Quantity  \\\n",
       "0    536365    85123A   WHITE HANGING HEART T-LIGHT HOLDER         6   \n",
       "1    536365     71053                  WHITE METAL LANTERN         6   \n",
       "2    536365    84406B       CREAM CUPID HEARTS COAT HANGER         8   \n",
       "3    536365    84029G  KNITTED UNION FLAG HOT WATER BOTTLE         6   \n",
       "4    536365    84029E       RED WOOLLY HOTTIE WHITE HEART.         6   \n",
       "\n",
       "          InvoiceDate  UnitPrice  CustomerID         Country  amount  \\\n",
       "0 2010-12-01 08:26:00       2.55     17850.0  United Kingdom   15.30   \n",
       "1 2010-12-01 08:26:00       3.39     17850.0  United Kingdom   20.34   \n",
       "2 2010-12-01 08:26:00       2.75     17850.0  United Kingdom   22.00   \n",
       "3 2010-12-01 08:26:00       3.39     17850.0  United Kingdom   20.34   \n",
       "4 2010-12-01 08:26:00       3.39     17850.0  United Kingdom   20.34   \n",
       "\n",
       "               diff  \n",
       "0 373 days 04:24:00  \n",
       "1 373 days 04:24:00  \n",
       "2 373 days 04:24:00  \n",
       "3 373 days 04:24:00  \n",
       "4 373 days 04:24:00  "
      ]
     },
     "execution_count": 17,
     "metadata": {},
     "output_type": "execute_result"
    }
   ],
   "source": [
    "# compute the diff\n",
    "df['diff'] = max_date - df['InvoiceDate']\n",
    "df.head()"
   ]
  },
  {
   "cell_type": "code",
   "execution_count": 18,
   "id": "dedaf082",
   "metadata": {
    "execution": {
     "iopub.execute_input": "2021-09-01T10:48:27.472181Z",
     "iopub.status.busy": "2021-09-01T10:48:27.471611Z",
     "iopub.status.idle": "2021-09-01T10:48:27.500028Z",
     "shell.execute_reply": "2021-09-01T10:48:27.499449Z"
    },
    "papermill": {
     "duration": 0.07675,
     "end_time": "2021-09-01T10:48:27.500149",
     "exception": false,
     "start_time": "2021-09-01T10:48:27.423399",
     "status": "completed"
    },
    "tags": []
   },
   "outputs": [
    {
     "data": {
      "text/html": [
       "<div>\n",
       "<style scoped>\n",
       "    .dataframe tbody tr th:only-of-type {\n",
       "        vertical-align: middle;\n",
       "    }\n",
       "\n",
       "    .dataframe tbody tr th {\n",
       "        vertical-align: top;\n",
       "    }\n",
       "\n",
       "    .dataframe thead th {\n",
       "        text-align: right;\n",
       "    }\n",
       "</style>\n",
       "<table border=\"1\" class=\"dataframe\">\n",
       "  <thead>\n",
       "    <tr style=\"text-align: right;\">\n",
       "      <th></th>\n",
       "      <th>CustomerID</th>\n",
       "      <th>diff</th>\n",
       "    </tr>\n",
       "  </thead>\n",
       "  <tbody>\n",
       "    <tr>\n",
       "      <th>0</th>\n",
       "      <td>12346.0</td>\n",
       "      <td>325 days 02:33:00</td>\n",
       "    </tr>\n",
       "    <tr>\n",
       "      <th>1</th>\n",
       "      <td>12347.0</td>\n",
       "      <td>1 days 20:58:00</td>\n",
       "    </tr>\n",
       "    <tr>\n",
       "      <th>2</th>\n",
       "      <td>12348.0</td>\n",
       "      <td>74 days 23:37:00</td>\n",
       "    </tr>\n",
       "    <tr>\n",
       "      <th>3</th>\n",
       "      <td>12349.0</td>\n",
       "      <td>18 days 02:59:00</td>\n",
       "    </tr>\n",
       "    <tr>\n",
       "      <th>4</th>\n",
       "      <td>12350.0</td>\n",
       "      <td>309 days 20:49:00</td>\n",
       "    </tr>\n",
       "  </tbody>\n",
       "</table>\n",
       "</div>"
      ],
      "text/plain": [
       "   CustomerID              diff\n",
       "0     12346.0 325 days 02:33:00\n",
       "1     12347.0   1 days 20:58:00\n",
       "2     12348.0  74 days 23:37:00\n",
       "3     12349.0  18 days 02:59:00\n",
       "4     12350.0 309 days 20:49:00"
      ]
     },
     "execution_count": 18,
     "metadata": {},
     "output_type": "execute_result"
    }
   ],
   "source": [
    "\n",
    "# recency\n",
    "last_purchase = df.groupby('CustomerID')['diff'].min()\n",
    "last_purchase = last_purchase.reset_index()\n",
    "last_purchase.head()"
   ]
  },
  {
   "cell_type": "code",
   "execution_count": 19,
   "id": "98c329af",
   "metadata": {
    "execution": {
     "iopub.execute_input": "2021-09-01T10:48:27.592622Z",
     "iopub.status.busy": "2021-09-01T10:48:27.589982Z",
     "iopub.status.idle": "2021-09-01T10:48:27.604568Z",
     "shell.execute_reply": "2021-09-01T10:48:27.605055Z"
    },
    "papermill": {
     "duration": 0.062518,
     "end_time": "2021-09-01T10:48:27.605190",
     "exception": false,
     "start_time": "2021-09-01T10:48:27.542672",
     "status": "completed"
    },
    "tags": []
   },
   "outputs": [
    {
     "data": {
      "text/html": [
       "<div>\n",
       "<style scoped>\n",
       "    .dataframe tbody tr th:only-of-type {\n",
       "        vertical-align: middle;\n",
       "    }\n",
       "\n",
       "    .dataframe tbody tr th {\n",
       "        vertical-align: top;\n",
       "    }\n",
       "\n",
       "    .dataframe thead th {\n",
       "        text-align: right;\n",
       "    }\n",
       "</style>\n",
       "<table border=\"1\" class=\"dataframe\">\n",
       "  <thead>\n",
       "    <tr style=\"text-align: right;\">\n",
       "      <th></th>\n",
       "      <th>CustomerID</th>\n",
       "      <th>monetary</th>\n",
       "      <th>frequency</th>\n",
       "      <th>recency</th>\n",
       "    </tr>\n",
       "  </thead>\n",
       "  <tbody>\n",
       "    <tr>\n",
       "      <th>0</th>\n",
       "      <td>12346.0</td>\n",
       "      <td>0.00</td>\n",
       "      <td>2</td>\n",
       "      <td>325 days 02:33:00</td>\n",
       "    </tr>\n",
       "    <tr>\n",
       "      <th>1</th>\n",
       "      <td>12347.0</td>\n",
       "      <td>4310.00</td>\n",
       "      <td>182</td>\n",
       "      <td>1 days 20:58:00</td>\n",
       "    </tr>\n",
       "    <tr>\n",
       "      <th>2</th>\n",
       "      <td>12348.0</td>\n",
       "      <td>1797.24</td>\n",
       "      <td>31</td>\n",
       "      <td>74 days 23:37:00</td>\n",
       "    </tr>\n",
       "    <tr>\n",
       "      <th>3</th>\n",
       "      <td>12349.0</td>\n",
       "      <td>1757.55</td>\n",
       "      <td>73</td>\n",
       "      <td>18 days 02:59:00</td>\n",
       "    </tr>\n",
       "    <tr>\n",
       "      <th>4</th>\n",
       "      <td>12350.0</td>\n",
       "      <td>334.40</td>\n",
       "      <td>17</td>\n",
       "      <td>309 days 20:49:00</td>\n",
       "    </tr>\n",
       "  </tbody>\n",
       "</table>\n",
       "</div>"
      ],
      "text/plain": [
       "   CustomerID  monetary  frequency           recency\n",
       "0     12346.0      0.00          2 325 days 02:33:00\n",
       "1     12347.0   4310.00        182   1 days 20:58:00\n",
       "2     12348.0   1797.24         31  74 days 23:37:00\n",
       "3     12349.0   1757.55         73  18 days 02:59:00\n",
       "4     12350.0    334.40         17 309 days 20:49:00"
      ]
     },
     "execution_count": 19,
     "metadata": {},
     "output_type": "execute_result"
    }
   ],
   "source": [
    "# merge\n",
    "rmf_df = pd.merge(rmf_df, last_purchase, on='CustomerID', how='inner')\n",
    "rmf_df.columns = ['CustomerID', 'monetary', 'frequency', 'recency']\n",
    "rmf_df.head()"
   ]
  },
  {
   "cell_type": "code",
   "execution_count": 20,
   "id": "e030a66a",
   "metadata": {
    "execution": {
     "iopub.execute_input": "2021-09-01T10:48:27.705824Z",
     "iopub.status.busy": "2021-09-01T10:48:27.705043Z",
     "iopub.status.idle": "2021-09-01T10:48:27.708414Z",
     "shell.execute_reply": "2021-09-01T10:48:27.708871Z"
    },
    "papermill": {
     "duration": 0.059494,
     "end_time": "2021-09-01T10:48:27.709041",
     "exception": false,
     "start_time": "2021-09-01T10:48:27.649547",
     "status": "completed"
    },
    "tags": []
   },
   "outputs": [
    {
     "data": {
      "text/html": [
       "<div>\n",
       "<style scoped>\n",
       "    .dataframe tbody tr th:only-of-type {\n",
       "        vertical-align: middle;\n",
       "    }\n",
       "\n",
       "    .dataframe tbody tr th {\n",
       "        vertical-align: top;\n",
       "    }\n",
       "\n",
       "    .dataframe thead th {\n",
       "        text-align: right;\n",
       "    }\n",
       "</style>\n",
       "<table border=\"1\" class=\"dataframe\">\n",
       "  <thead>\n",
       "    <tr style=\"text-align: right;\">\n",
       "      <th></th>\n",
       "      <th>CustomerID</th>\n",
       "      <th>monetary</th>\n",
       "      <th>frequency</th>\n",
       "      <th>recency</th>\n",
       "    </tr>\n",
       "  </thead>\n",
       "  <tbody>\n",
       "    <tr>\n",
       "      <th>0</th>\n",
       "      <td>12346.0</td>\n",
       "      <td>0.00</td>\n",
       "      <td>2</td>\n",
       "      <td>325</td>\n",
       "    </tr>\n",
       "    <tr>\n",
       "      <th>1</th>\n",
       "      <td>12347.0</td>\n",
       "      <td>4310.00</td>\n",
       "      <td>182</td>\n",
       "      <td>1</td>\n",
       "    </tr>\n",
       "    <tr>\n",
       "      <th>2</th>\n",
       "      <td>12348.0</td>\n",
       "      <td>1797.24</td>\n",
       "      <td>31</td>\n",
       "      <td>74</td>\n",
       "    </tr>\n",
       "    <tr>\n",
       "      <th>3</th>\n",
       "      <td>12349.0</td>\n",
       "      <td>1757.55</td>\n",
       "      <td>73</td>\n",
       "      <td>18</td>\n",
       "    </tr>\n",
       "    <tr>\n",
       "      <th>4</th>\n",
       "      <td>12350.0</td>\n",
       "      <td>334.40</td>\n",
       "      <td>17</td>\n",
       "      <td>309</td>\n",
       "    </tr>\n",
       "  </tbody>\n",
       "</table>\n",
       "</div>"
      ],
      "text/plain": [
       "   CustomerID  monetary  frequency  recency\n",
       "0     12346.0      0.00          2      325\n",
       "1     12347.0   4310.00        182        1\n",
       "2     12348.0   1797.24         31       74\n",
       "3     12349.0   1757.55         73       18\n",
       "4     12350.0    334.40         17      309"
      ]
     },
     "execution_count": 20,
     "metadata": {},
     "output_type": "execute_result"
    }
   ],
   "source": [
    "# number of days only\n",
    "rmf_df['recency'] = rmf_df['recency'].dt.days\n",
    "rmf_df.head()"
   ]
  },
  {
   "cell_type": "markdown",
   "id": "424ad04e",
   "metadata": {
    "papermill": {
     "duration": 0.042507,
     "end_time": "2021-09-01T10:48:27.794751",
     "exception": false,
     "start_time": "2021-09-01T10:48:27.752244",
     "status": "completed"
    },
    "tags": []
   },
   "source": [
    "<p id=\"part4\"></p>\n",
    "\n",
    "<span style=\"font-family: Arials; font-size: 18px; font-style: bold; font-weight: bold; letter-spacing: 2px; color: #DC143C\">4. VISUALIZATIONS</span>"
   ]
  },
  {
   "cell_type": "code",
   "execution_count": 21,
   "id": "13f60eb0",
   "metadata": {
    "execution": {
     "iopub.execute_input": "2021-09-01T10:48:27.911816Z",
     "iopub.status.busy": "2021-09-01T10:48:27.911202Z",
     "iopub.status.idle": "2021-09-01T10:48:28.188070Z",
     "shell.execute_reply": "2021-09-01T10:48:28.188493Z"
    },
    "papermill": {
     "duration": 0.351093,
     "end_time": "2021-09-01T10:48:28.188654",
     "exception": false,
     "start_time": "2021-09-01T10:48:27.837561",
     "status": "completed"
    },
    "tags": []
   },
   "outputs": [
    {
     "name": "stderr",
     "output_type": "stream",
     "text": [
      "/opt/conda/lib/python3.7/site-packages/ipykernel_launcher.py:16: MatplotlibDeprecationWarning: Case-insensitive properties were deprecated in 3.3 and support will be removed two minor releases later\n",
      "  app.launch_new_instance()\n",
      "/opt/conda/lib/python3.7/site-packages/ipykernel_launcher.py:17: MatplotlibDeprecationWarning: Case-insensitive properties were deprecated in 3.3 and support will be removed two minor releases later\n"
     ]
    },
    {
     "data": {
      "image/png": "[encoded data removed]",
      "text/plain": [
       "<Figure size 720x432 with 1 Axes>"
      ]
     },
     "metadata": {},
     "output_type": "display_data"
    }
   ],
   "source": [
    "fig=plt.figure(figsize=(10,6))\n",
    "\n",
    "ax=sns.kdeplot(rmf_df[\"monetary\"],color=\"black\",fill=True)\n",
    "\n",
    "\n",
    "\n",
    "fig.patch.set_facecolor('#f6f5f5')\n",
    "ax.set_facecolor('#f6f5f5')\n",
    "\n",
    "#ax.axes.get_xaxis().set_visible(False)\n",
    "ax.axes.get_yaxis().set_visible(False)\n",
    "ax.spines['bottom'].set_visible(False)\n",
    "ax.spines['left'].set_visible(True)\n",
    "ax.spines['right'].set_visible(False)\n",
    "ax.spines['top'].set_visible(False)\n",
    "fig.text(0.3,1,\"Distribution of Monetary\", {'font': 'Serif','weight':'bold', 'Size': '22','color':'black'}, alpha = 0.7)\n",
    "fig.text(0.2,0.9,\"As we can see that most of the customers have generated around 0-30000 total revenue towards the store \\n Also there are some of the customers who have generated upto 2.5lakh towards the store \", {'font': 'Serif','weight':'bold', 'Size': '12','color':'black'}, alpha = 0.7)\n",
    "\n",
    "fig.show()"
   ]
  },
  {
   "cell_type": "code",
   "execution_count": 22,
   "id": "7bd8cc74",
   "metadata": {
    "execution": {
     "iopub.execute_input": "2021-09-01T10:48:28.310407Z",
     "iopub.status.busy": "2021-09-01T10:48:28.291337Z",
     "iopub.status.idle": "2021-09-01T10:48:28.473553Z",
     "shell.execute_reply": "2021-09-01T10:48:28.474264Z"
    },
    "papermill": {
     "duration": 0.238948,
     "end_time": "2021-09-01T10:48:28.474474",
     "exception": false,
     "start_time": "2021-09-01T10:48:28.235526",
     "status": "completed"
    },
    "tags": []
   },
   "outputs": [
    {
     "name": "stderr",
     "output_type": "stream",
     "text": [
      "/opt/conda/lib/python3.7/site-packages/ipykernel_launcher.py:16: MatplotlibDeprecationWarning: Case-insensitive properties were deprecated in 3.3 and support will be removed two minor releases later\n",
      "  app.launch_new_instance()\n",
      "/opt/conda/lib/python3.7/site-packages/ipykernel_launcher.py:17: MatplotlibDeprecationWarning: Case-insensitive properties were deprecated in 3.3 and support will be removed two minor releases later\n"
     ]
    },
    {
     "data": {
      "image/png": "[encoded data removed]",
      "text/plain": [
       "<Figure size 720x432 with 1 Axes>"
      ]
     },
     "metadata": {},
     "output_type": "display_data"
    }
   ],
   "source": [
    "fig=plt.figure(figsize=(10,6))\n",
    "\n",
    "ax=sns.kdeplot(rmf_df[\"frequency\"],color=\"black\",fill=True)\n",
    "\n",
    "\n",
    "\n",
    "fig.patch.set_facecolor('#f6f5f5')\n",
    "ax.set_facecolor('#f6f5f5')\n",
    "\n",
    "#ax.axes.get_xaxis().set_visible(False)\n",
    "ax.axes.get_yaxis().set_visible(False)\n",
    "ax.spines['bottom'].set_visible(False)\n",
    "ax.spines['left'].set_visible(True)\n",
    "ax.spines['right'].set_visible(False)\n",
    "ax.spines['top'].set_visible(False)\n",
    "fig.text(0.3,1,\"Distribution of Frequency\", {'font': 'Serif','weight':'bold', 'Size': '22','color':'black'}, alpha = 0.7)\n",
    "fig.text(0.2,0.9,\"As we can see that upto 800 times most of the customers have visited the store.\\n Although there are some of the customers who have visted upto 8000 times towards the store \", {'font': 'Serif','weight':'bold', 'Size': '12','color':'black'}, alpha = 0.7)\n",
    "\n",
    "fig.show()"
   ]
  },
  {
   "cell_type": "code",
   "execution_count": 23,
   "id": "c585375b",
   "metadata": {
    "execution": {
     "iopub.execute_input": "2021-09-01T10:48:28.603476Z",
     "iopub.status.busy": "2021-09-01T10:48:28.580391Z",
     "iopub.status.idle": "2021-09-01T10:48:28.736674Z",
     "shell.execute_reply": "2021-09-01T10:48:28.737100Z"
    },
    "papermill": {
     "duration": 0.21493,
     "end_time": "2021-09-01T10:48:28.737251",
     "exception": false,
     "start_time": "2021-09-01T10:48:28.522321",
     "status": "completed"
    },
    "tags": []
   },
   "outputs": [
    {
     "name": "stderr",
     "output_type": "stream",
     "text": [
      "/opt/conda/lib/python3.7/site-packages/ipykernel_launcher.py:16: MatplotlibDeprecationWarning: Case-insensitive properties were deprecated in 3.3 and support will be removed two minor releases later\n",
      "  app.launch_new_instance()\n",
      "/opt/conda/lib/python3.7/site-packages/ipykernel_launcher.py:17: MatplotlibDeprecationWarning: Case-insensitive properties were deprecated in 3.3 and support will be removed two minor releases later\n"
     ]
    },
    {
     "data": {
      "image/png": "[encoded data removed]",
      "text/plain": [
       "<Figure size 720x432 with 1 Axes>"
      ]
     },
     "metadata": {},
     "output_type": "display_data"
    }
   ],
   "source": [
    "fig=plt.figure(figsize=(10,6))\n",
    "\n",
    "ax=sns.kdeplot(rmf_df[\"recency\"],color=\"black\",fill=True)\n",
    "\n",
    "\n",
    "\n",
    "fig.patch.set_facecolor('#f6f5f5')\n",
    "ax.set_facecolor('#f6f5f5')\n",
    "\n",
    "#ax.axes.get_xaxis().set_visible(False)\n",
    "ax.axes.get_yaxis().set_visible(False)\n",
    "ax.spines['bottom'].set_visible(False)\n",
    "ax.spines['left'].set_visible(True)\n",
    "ax.spines['right'].set_visible(False)\n",
    "ax.spines['top'].set_visible(False)\n",
    "fig.text(0.3,1,\"Distribution of Recency\", {'font': 'Serif','weight':'bold', 'Size': '22','color':'black'}, alpha = 0.7)\n",
    "fig.text(0.2,0.9,\"Most of the customers have last visit towards the store upto 100 days.\\n But there are some pf the customers who have visited after 300-400 days.  \", {'font': 'Serif','weight':'bold', 'Size': '12','color':'black'}, alpha = 0.7)\n",
    "\n",
    "fig.show()"
   ]
  },
  {
   "cell_type": "code",
   "execution_count": 24,
   "id": "a9043458",
   "metadata": {
    "execution": {
     "iopub.execute_input": "2021-09-01T10:48:28.844746Z",
     "iopub.status.busy": "2021-09-01T10:48:28.843670Z",
     "iopub.status.idle": "2021-09-01T10:48:28.976466Z",
     "shell.execute_reply": "2021-09-01T10:48:28.977099Z"
    },
    "papermill": {
     "duration": 0.191164,
     "end_time": "2021-09-01T10:48:28.977323",
     "exception": false,
     "start_time": "2021-09-01T10:48:28.786159",
     "status": "completed"
    },
    "tags": []
   },
   "outputs": [
    {
     "name": "stderr",
     "output_type": "stream",
     "text": [
      "/opt/conda/lib/python3.7/site-packages/seaborn/_decorators.py:43: FutureWarning: Pass the following variable as a keyword arg: x. From version 0.12, the only valid positional argument will be `data`, and passing other arguments without an explicit keyword will result in an error or misinterpretation.\n",
      "  FutureWarning\n"
     ]
    },
    {
     "data": {
      "image/png": "[encoded data removed]",
      "text/plain": [
       "<Figure size 720x432 with 1 Axes>"
      ]
     },
     "metadata": {},
     "output_type": "display_data"
    }
   ],
   "source": [
    "fig=plt.figure(figsize=(10,6))\n",
    "ax=sns.boxplot(rmf_df[\"monetary\"])\n",
    "for s in ['top', 'left', 'right', 'bottom']:\n",
    "    ax.spines[s].set_visible(False)\n",
    "fig.patch.set_facecolor('#f6f5f5')\n",
    "ax.set_facecolor('#f6f5f5')\n",
    "fig.text(0.3,0.9,\"Boxplot of monetary\", fontweight=\"bold\", fontfamily='serif', fontsize=18, color='black')\n",
    "fig.text(0.3,0.7,\"As we can see there are so many outliers present.\\n We need to handle them before making the machine learning model\", fontweight=\"bold\", fontfamily='serif', fontsize=12, color='black')\n",
    "fig.show()"
   ]
  },
  {
   "cell_type": "code",
   "execution_count": 25,
   "id": "fa5f4f83",
   "metadata": {
    "execution": {
     "iopub.execute_input": "2021-09-01T10:48:29.087410Z",
     "iopub.status.busy": "2021-09-01T10:48:29.086847Z",
     "iopub.status.idle": "2021-09-01T10:48:29.230689Z",
     "shell.execute_reply": "2021-09-01T10:48:29.229917Z"
    },
    "papermill": {
     "duration": 0.202925,
     "end_time": "2021-09-01T10:48:29.230856",
     "exception": false,
     "start_time": "2021-09-01T10:48:29.027931",
     "status": "completed"
    },
    "tags": []
   },
   "outputs": [
    {
     "name": "stderr",
     "output_type": "stream",
     "text": [
      "/opt/conda/lib/python3.7/site-packages/seaborn/_decorators.py:43: FutureWarning: Pass the following variable as a keyword arg: x. From version 0.12, the only valid positional argument will be `data`, and passing other arguments without an explicit keyword will result in an error or misinterpretation.\n",
      "  FutureWarning\n"
     ]
    },
    {
     "data": {
      "image/png": "[encoded data removed]",
      "text/plain": [
       "<Figure size 720x432 with 1 Axes>"
      ]
     },
     "metadata": {},
     "output_type": "display_data"
    }
   ],
   "source": [
    "fig=plt.figure(figsize=(10,6))\n",
    "ax=sns.boxplot(rmf_df[\"frequency\"])\n",
    "for s in ['top', 'left', 'right', 'bottom']:\n",
    "    ax.spines[s].set_visible(False)\n",
    "fig.patch.set_facecolor('#f6f5f5')\n",
    "ax.set_facecolor('#f6f5f5')\n",
    "fig.text(0.3,0.9,\"Boxplot of frequency\", fontweight=\"bold\", fontfamily='serif', fontsize=18, color='black')\n",
    "fig.text(0.3,0.7,\"As we can see there are so many outliers present.\\n We need to handle them before making the machine learning model\", fontweight=\"bold\", fontfamily='serif', fontsize=12, color='black')\n",
    "fig.show()"
   ]
  },
  {
   "cell_type": "code",
   "execution_count": 26,
   "id": "6ffd4554",
   "metadata": {
    "execution": {
     "iopub.execute_input": "2021-09-01T10:48:29.345013Z",
     "iopub.status.busy": "2021-09-01T10:48:29.344330Z",
     "iopub.status.idle": "2021-09-01T10:48:29.485571Z",
     "shell.execute_reply": "2021-09-01T10:48:29.485071Z"
    },
    "papermill": {
     "duration": 0.201246,
     "end_time": "2021-09-01T10:48:29.485704",
     "exception": false,
     "start_time": "2021-09-01T10:48:29.284458",
     "status": "completed"
    },
    "tags": []
   },
   "outputs": [
    {
     "name": "stderr",
     "output_type": "stream",
     "text": [
      "/opt/conda/lib/python3.7/site-packages/seaborn/_decorators.py:43: FutureWarning: Pass the following variable as a keyword arg: x. From version 0.12, the only valid positional argument will be `data`, and passing other arguments without an explicit keyword will result in an error or misinterpretation.\n",
      "  FutureWarning\n"
     ]
    },
    {
     "data": {
      "image/png": "[encoded data removed]",
      "text/plain": [
       "<Figure size 720x432 with 1 Axes>"
      ]
     },
     "metadata": {},
     "output_type": "display_data"
    }
   ],
   "source": [
    "fig=plt.figure(figsize=(10,6))\n",
    "ax=sns.boxplot(rmf_df[\"recency\"],color=\"grey\")\n",
    "for s in ['top', 'left', 'right', 'bottom']:\n",
    "    ax.spines[s].set_visible(False)\n",
    "fig.patch.set_facecolor('#f6f5f5')\n",
    "ax.set_facecolor('#f6f5f5')\n",
    "fig.text(0.3,0.9,\"Boxplot of recency\", fontweight=\"bold\", fontfamily='serif', fontsize=18, color='black')\n",
    "fig.text(0.3,0.83,\"In recency there are not so many outliers present.\\n But there are some so we need to handle them before making the machine learning model\", fontweight=\"bold\", fontfamily='serif', fontsize=12, color='black')\n",
    "fig.show()"
   ]
  },
  {
   "cell_type": "markdown",
   "id": "b12e6aa7",
   "metadata": {
    "papermill": {
     "duration": 0.052543,
     "end_time": "2021-09-01T10:48:29.591746",
     "exception": false,
     "start_time": "2021-09-01T10:48:29.539203",
     "status": "completed"
    },
    "tags": []
   },
   "source": [
    "<p id=\"part6\"></p>\n",
    "<span style=\"font-family: Arials; font-size: 18px; font-style: bold; font-weight: bold; letter-spacing: 2px; color: #DC143C\">5.1 Handle-Outliers</span>"
   ]
  },
  {
   "cell_type": "markdown",
   "id": "5f8137df",
   "metadata": {
    "papermill": {
     "duration": 0.053171,
     "end_time": "2021-09-01T10:48:29.698852",
     "exception": false,
     "start_time": "2021-09-01T10:48:29.645681",
     "status": "completed"
    },
    "tags": []
   },
   "source": [
    "<p style=\"font-family: Arials; font-size: 18px; text-align: center; color: Black;\">Now let's do some cleaning. As we know that there are so many outliers present in the data set . Let's handle that."
   ]
  },
  {
   "cell_type": "code",
   "execution_count": 27,
   "id": "6f9b281b",
   "metadata": {
    "execution": {
     "iopub.execute_input": "2021-09-01T10:48:29.810894Z",
     "iopub.status.busy": "2021-09-01T10:48:29.810361Z",
     "iopub.status.idle": "2021-09-01T10:48:29.812878Z",
     "shell.execute_reply": "2021-09-01T10:48:29.812469Z"
    },
    "papermill": {
     "duration": 0.060289,
     "end_time": "2021-09-01T10:48:29.812986",
     "exception": false,
     "start_time": "2021-09-01T10:48:29.752697",
     "status": "completed"
    },
    "tags": []
   },
   "outputs": [],
   "source": [
    "import numpy as np"
   ]
  },
  {
   "cell_type": "code",
   "execution_count": 28,
   "id": "c0e3323d",
   "metadata": {
    "execution": {
     "iopub.execute_input": "2021-09-01T10:48:29.929277Z",
     "iopub.status.busy": "2021-09-01T10:48:29.928726Z",
     "iopub.status.idle": "2021-09-01T10:48:29.942961Z",
     "shell.execute_reply": "2021-09-01T10:48:29.942439Z"
    },
    "papermill": {
     "duration": 0.0753,
     "end_time": "2021-09-01T10:48:29.943083",
     "exception": false,
     "start_time": "2021-09-01T10:48:29.867783",
     "status": "completed"
    },
    "tags": []
   },
   "outputs": [],
   "source": [
    "\n",
    "def drop_outliers(df, field_name):\n",
    "    iqr = 1.5 * (np.percentile(df[field_name], 75) - np.percentile(df[field_name], 25))\n",
    "    df.drop(df[df[field_name] > (iqr + np.percentile(df[field_name], 75))].index, inplace=True)\n",
    "    df.drop(df[df[field_name] < (np.percentile(df[field_name], 25) - iqr)].index, inplace=True)\n",
    "\n",
    "    \n",
    "    \n",
    "drop_outliers(rmf_df, 'recency')\n",
    "drop_outliers(rmf_df, 'frequency')\n",
    "drop_outliers(rmf_df, 'monetary')\n"
   ]
  },
  {
   "cell_type": "markdown",
   "id": "faf01b56",
   "metadata": {
    "papermill": {
     "duration": 0.052904,
     "end_time": "2021-09-01T10:48:30.049849",
     "exception": false,
     "start_time": "2021-09-01T10:48:29.996945",
     "status": "completed"
    },
    "tags": []
   },
   "source": [
    "<span style=\"font-family: Arials; font-size: 18px; font-style: bold; font-weight: bold; letter-spacing: 2px; color: #DC143C\">5.2 Scaling </span>"
   ]
  },
  {
   "cell_type": "code",
   "execution_count": 29,
   "id": "e577b133",
   "metadata": {
    "execution": {
     "iopub.execute_input": "2021-09-01T10:48:30.161555Z",
     "iopub.status.busy": "2021-09-01T10:48:30.160992Z",
     "iopub.status.idle": "2021-09-01T10:48:30.281112Z",
     "shell.execute_reply": "2021-09-01T10:48:30.282031Z"
    },
    "papermill": {
     "duration": 0.179012,
     "end_time": "2021-09-01T10:48:30.282274",
     "exception": false,
     "start_time": "2021-09-01T10:48:30.103262",
     "status": "completed"
    },
    "tags": []
   },
   "outputs": [
    {
     "data": {
      "text/plain": [
       "(3543, 3)"
      ]
     },
     "execution_count": 29,
     "metadata": {},
     "output_type": "execute_result"
    }
   ],
   "source": [
    "from sklearn.preprocessing import StandardScaler\n",
    "scaler=StandardScaler()\n",
    "\n",
    "\n",
    "df = rmf_df[['monetary', 'frequency', 'recency']]\n",
    "\n",
    "\n",
    "scaler = StandardScaler()\n",
    "\n",
    "\n",
    "df = scaler.fit_transform(df)\n",
    "df.shape\n"
   ]
  },
  {
   "cell_type": "code",
   "execution_count": 30,
   "id": "d8a8a2ad",
   "metadata": {
    "execution": {
     "iopub.execute_input": "2021-09-01T10:48:30.427959Z",
     "iopub.status.busy": "2021-09-01T10:48:30.427043Z",
     "iopub.status.idle": "2021-09-01T10:48:30.430233Z",
     "shell.execute_reply": "2021-09-01T10:48:30.430603Z"
    },
    "papermill": {
     "duration": 0.075347,
     "end_time": "2021-09-01T10:48:30.430756",
     "exception": false,
     "start_time": "2021-09-01T10:48:30.355409",
     "status": "completed"
    },
    "tags": []
   },
   "outputs": [
    {
     "data": {
      "text/html": [
       "<div>\n",
       "<style scoped>\n",
       "    .dataframe tbody tr th:only-of-type {\n",
       "        vertical-align: middle;\n",
       "    }\n",
       "\n",
       "    .dataframe tbody tr th {\n",
       "        vertical-align: top;\n",
       "    }\n",
       "\n",
       "    .dataframe thead th {\n",
       "        text-align: right;\n",
       "    }\n",
       "</style>\n",
       "<table border=\"1\" class=\"dataframe\">\n",
       "  <thead>\n",
       "    <tr style=\"text-align: right;\">\n",
       "      <th></th>\n",
       "      <th>amount</th>\n",
       "      <th>frequency</th>\n",
       "      <th>recency</th>\n",
       "    </tr>\n",
       "  </thead>\n",
       "  <tbody>\n",
       "    <tr>\n",
       "      <th>0</th>\n",
       "      <td>-1.153222</td>\n",
       "      <td>-1.030942</td>\n",
       "      <td>2.549684</td>\n",
       "    </tr>\n",
       "    <tr>\n",
       "      <th>1</th>\n",
       "      <td>1.622399</td>\n",
       "      <td>-0.399132</td>\n",
       "      <td>-0.199896</td>\n",
       "    </tr>\n",
       "    <tr>\n",
       "      <th>2</th>\n",
       "      <td>1.561103</td>\n",
       "      <td>0.515905</td>\n",
       "      <td>-0.813348</td>\n",
       "    </tr>\n",
       "    <tr>\n",
       "      <th>3</th>\n",
       "      <td>-0.636781</td>\n",
       "      <td>-0.704144</td>\n",
       "      <td>2.374412</td>\n",
       "    </tr>\n",
       "    <tr>\n",
       "      <th>4</th>\n",
       "      <td>1.233478</td>\n",
       "      <td>0.995209</td>\n",
       "      <td>-0.627121</td>\n",
       "    </tr>\n",
       "  </tbody>\n",
       "</table>\n",
       "</div>"
      ],
      "text/plain": [
       "     amount  frequency   recency\n",
       "0 -1.153222  -1.030942  2.549684\n",
       "1  1.622399  -0.399132 -0.199896\n",
       "2  1.561103   0.515905 -0.813348\n",
       "3 -0.636781  -0.704144  2.374412\n",
       "4  1.233478   0.995209 -0.627121"
      ]
     },
     "execution_count": 30,
     "metadata": {},
     "output_type": "execute_result"
    }
   ],
   "source": [
    "rfm_df_scaled = pd.DataFrame(df)\n",
    "rfm_df_scaled.columns = ['amount', 'frequency', 'recency']\n",
    "rfm_df_scaled.head()"
   ]
  },
  {
   "cell_type": "markdown",
   "id": "14e26512",
   "metadata": {
    "papermill": {
     "duration": 0.054067,
     "end_time": "2021-09-01T10:48:30.540277",
     "exception": false,
     "start_time": "2021-09-01T10:48:30.486210",
     "status": "completed"
    },
    "tags": []
   },
   "source": [
    "<p id=\"part7\"></p>\n",
    "\n",
    "<span style=\"font-family: Arials; font-size: 18px; font-style: bold; font-weight: bold; letter-spacing: 2px; color: #DC143C\">6 MODELLING</span>"
   ]
  },
  {
   "cell_type": "code",
   "execution_count": 31,
   "id": "e19501bb",
   "metadata": {
    "execution": {
     "iopub.execute_input": "2021-09-01T10:48:30.655688Z",
     "iopub.status.busy": "2021-09-01T10:48:30.655089Z",
     "iopub.status.idle": "2021-09-01T10:48:30.660190Z",
     "shell.execute_reply": "2021-09-01T10:48:30.660954Z"
    },
    "papermill": {
     "duration": 0.066162,
     "end_time": "2021-09-01T10:48:30.661098",
     "exception": false,
     "start_time": "2021-09-01T10:48:30.594936",
     "status": "completed"
    },
    "tags": []
   },
   "outputs": [
    {
     "name": "stdout",
     "output_type": "stream",
     "text": [
      "(3543, 3)\n"
     ]
    }
   ],
   "source": [
    "x = rfm_df_scaled.iloc[:,:].values\n",
    "\n",
    "# let's check the shape of x\n",
    "print(x.shape)"
   ]
  },
  {
   "cell_type": "code",
   "execution_count": 32,
   "id": "5ec8703e",
   "metadata": {
    "execution": {
     "iopub.execute_input": "2021-09-01T10:48:30.776698Z",
     "iopub.status.busy": "2021-09-01T10:48:30.776119Z",
     "iopub.status.idle": "2021-09-01T10:48:58.577573Z",
     "shell.execute_reply": "2021-09-01T10:48:58.577992Z"
    },
    "papermill": {
     "duration": 27.859733,
     "end_time": "2021-09-01T10:48:58.578147",
     "exception": false,
     "start_time": "2021-09-01T10:48:30.718414",
     "status": "completed"
    },
    "tags": []
   },
   "outputs": [
    {
     "data": {
      "image/png": "[encoded data removed]",
      "text/plain": [
       "<Figure size 720x432 with 1 Axes>"
      ]
     },
     "metadata": {},
     "output_type": "display_data"
    }
   ],
   "source": [
    "from sklearn.cluster import KMeans\n",
    "\n",
    "wcss = []\n",
    "for i in range(1, 11):\n",
    "    km = KMeans(n_clusters = i, init = 'k-means++', max_iter = 300, n_init = 10, random_state = 0)\n",
    "    km.fit(x)\n",
    "    wcss.append(km.inertia_)\n",
    "fig=plt.figure(figsize=(10,6))  \n",
    "fig.patch.set_facecolor('#f6f5f5')\n",
    "ax.set_facecolor('#f5f6f6')\n",
    "\n",
    "\n",
    "plt.plot(range(1, 11), wcss)\n",
    "plt.title('The Elbow Method', fontsize = 20)\n",
    "plt.xlabel('No. of Clusters')\n",
    "plt.ylabel('wcss')\n",
    "fig.text(0.5,0.4,\"The best k-value is 3\")\n",
    "plt.show()"
   ]
  },
  {
   "cell_type": "code",
   "execution_count": 33,
   "id": "5988cc35",
   "metadata": {
    "execution": {
     "iopub.execute_input": "2021-09-01T10:48:58.695902Z",
     "iopub.status.busy": "2021-09-01T10:48:58.695021Z",
     "iopub.status.idle": "2021-09-01T10:49:00.024374Z",
     "shell.execute_reply": "2021-09-01T10:49:00.024924Z"
    },
    "papermill": {
     "duration": 1.391236,
     "end_time": "2021-09-01T10:49:00.025105",
     "exception": false,
     "start_time": "2021-09-01T10:48:58.633869",
     "status": "completed"
    },
    "tags": []
   },
   "outputs": [
    {
     "data": {
      "text/plain": [
       "KMeans(max_iter=50, n_clusters=3)"
      ]
     },
     "execution_count": 33,
     "metadata": {},
     "output_type": "execute_result"
    }
   ],
   "source": [
    "kmeans = KMeans(n_clusters=3, max_iter=50)\n",
    "kmeans.fit(x)"
   ]
  },
  {
   "cell_type": "code",
   "execution_count": 34,
   "id": "7d61b355",
   "metadata": {
    "execution": {
     "iopub.execute_input": "2021-09-01T10:49:00.146079Z",
     "iopub.status.busy": "2021-09-01T10:49:00.145364Z",
     "iopub.status.idle": "2021-09-01T10:49:00.148880Z",
     "shell.execute_reply": "2021-09-01T10:49:00.149310Z"
    },
    "papermill": {
     "duration": 0.066145,
     "end_time": "2021-09-01T10:49:00.149469",
     "exception": false,
     "start_time": "2021-09-01T10:49:00.083324",
     "status": "completed"
    },
    "tags": []
   },
   "outputs": [
    {
     "data": {
      "text/plain": [
       "array([0, 1, 1, ..., 0, 2, 1], dtype=int32)"
      ]
     },
     "execution_count": 34,
     "metadata": {},
     "output_type": "execute_result"
    }
   ],
   "source": [
    "kmeans.labels_\n"
   ]
  },
  {
   "cell_type": "code",
   "execution_count": 35,
   "id": "23fefd93",
   "metadata": {
    "_kg_hide-input": true,
    "execution": {
     "iopub.execute_input": "2021-09-01T10:49:00.276900Z",
     "iopub.status.busy": "2021-09-01T10:49:00.276255Z",
     "iopub.status.idle": "2021-09-01T10:49:00.282815Z",
     "shell.execute_reply": "2021-09-01T10:49:00.282350Z"
    },
    "papermill": {
     "duration": 0.074643,
     "end_time": "2021-09-01T10:49:00.282949",
     "exception": false,
     "start_time": "2021-09-01T10:49:00.208306",
     "status": "completed"
    },
    "tags": []
   },
   "outputs": [
    {
     "data": {
      "text/html": [
       "<div>\n",
       "<style scoped>\n",
       "    .dataframe tbody tr th:only-of-type {\n",
       "        vertical-align: middle;\n",
       "    }\n",
       "\n",
       "    .dataframe tbody tr th {\n",
       "        vertical-align: top;\n",
       "    }\n",
       "\n",
       "    .dataframe thead th {\n",
       "        text-align: right;\n",
       "    }\n",
       "</style>\n",
       "<table border=\"1\" class=\"dataframe\">\n",
       "  <thead>\n",
       "    <tr style=\"text-align: right;\">\n",
       "      <th></th>\n",
       "      <th>CustomerID</th>\n",
       "      <th>monetary</th>\n",
       "      <th>frequency</th>\n",
       "      <th>recency</th>\n",
       "      <th>cluster_id</th>\n",
       "    </tr>\n",
       "  </thead>\n",
       "  <tbody>\n",
       "    <tr>\n",
       "      <th>0</th>\n",
       "      <td>12346.0</td>\n",
       "      <td>0.00</td>\n",
       "      <td>2</td>\n",
       "      <td>325</td>\n",
       "      <td>0</td>\n",
       "    </tr>\n",
       "    <tr>\n",
       "      <th>2</th>\n",
       "      <td>12348.0</td>\n",
       "      <td>1797.24</td>\n",
       "      <td>31</td>\n",
       "      <td>74</td>\n",
       "      <td>1</td>\n",
       "    </tr>\n",
       "    <tr>\n",
       "      <th>3</th>\n",
       "      <td>12349.0</td>\n",
       "      <td>1757.55</td>\n",
       "      <td>73</td>\n",
       "      <td>18</td>\n",
       "      <td>1</td>\n",
       "    </tr>\n",
       "    <tr>\n",
       "      <th>4</th>\n",
       "      <td>12350.0</td>\n",
       "      <td>334.40</td>\n",
       "      <td>17</td>\n",
       "      <td>309</td>\n",
       "      <td>0</td>\n",
       "    </tr>\n",
       "    <tr>\n",
       "      <th>5</th>\n",
       "      <td>12352.0</td>\n",
       "      <td>1545.41</td>\n",
       "      <td>95</td>\n",
       "      <td>35</td>\n",
       "      <td>1</td>\n",
       "    </tr>\n",
       "  </tbody>\n",
       "</table>\n",
       "</div>"
      ],
      "text/plain": [
       "   CustomerID  monetary  frequency  recency  cluster_id\n",
       "0     12346.0      0.00          2      325           0\n",
       "2     12348.0   1797.24         31       74           1\n",
       "3     12349.0   1757.55         73       18           1\n",
       "4     12350.0    334.40         17      309           0\n",
       "5     12352.0   1545.41         95       35           1"
      ]
     },
     "execution_count": 35,
     "metadata": {},
     "output_type": "execute_result"
    }
   ],
   "source": [
    "\n",
    "# assign the label\n",
    "rmf_df['cluster_id'] = kmeans.labels_\n",
    "rmf_df.head()"
   ]
  },
  {
   "cell_type": "code",
   "execution_count": 36,
   "id": "7e0073eb",
   "metadata": {
    "execution": {
     "iopub.execute_input": "2021-09-01T10:49:00.407931Z",
     "iopub.status.busy": "2021-09-01T10:49:00.406611Z",
     "iopub.status.idle": "2021-09-01T10:49:00.576932Z",
     "shell.execute_reply": "2021-09-01T10:49:00.576387Z"
    },
    "papermill": {
     "duration": 0.235585,
     "end_time": "2021-09-01T10:49:00.577079",
     "exception": false,
     "start_time": "2021-09-01T10:49:00.341494",
     "status": "completed"
    },
    "tags": []
   },
   "outputs": [
    {
     "data": {
      "image/png": "[encoded data removed]",
      "text/plain": [
       "<Figure size 720x432 with 1 Axes>"
      ]
     },
     "metadata": {},
     "output_type": "display_data"
    }
   ],
   "source": [
    "\n",
    "fig=plt.figure(figsize=(10,6))\n",
    "\n",
    "ax=sns.boxplot(x='cluster_id', y='monetary', data=rmf_df)\n",
    "fig.patch.set_facecolor('#f6f5f5')\n",
    "ax.set_facecolor('#f5f6f6')\n",
    "for s in ['top', 'left', 'right', 'bottom']:\n",
    "    ax.spines[s].set_visible(False)\n",
    "\n",
    "#fig.text(0.3,0.9,\"Boxplot of recency\", fontweight=\"bold\", fontfamily='serif', fontsize=18, color='black')\n",
    "#fig.text(0.3,0.83,\"In recency there are not so many outliers present.\\n But there are some so we need to handle them before making the machine learning model\", fontweight=\"bold\", fontfamily='serif', fontsize=12, color='black')\n",
    "fig.show()\n"
   ]
  },
  {
   "cell_type": "code",
   "execution_count": 37,
   "id": "ec0d1a9a",
   "metadata": {
    "execution": {
     "iopub.execute_input": "2021-09-01T10:49:00.706624Z",
     "iopub.status.busy": "2021-09-01T10:49:00.705962Z",
     "iopub.status.idle": "2021-09-01T10:49:00.855088Z",
     "shell.execute_reply": "2021-09-01T10:49:00.854488Z"
    },
    "papermill": {
     "duration": 0.217198,
     "end_time": "2021-09-01T10:49:00.855239",
     "exception": false,
     "start_time": "2021-09-01T10:49:00.638041",
     "status": "completed"
    },
    "tags": []
   },
   "outputs": [
    {
     "data": {
      "image/png": "[encoded data removed]",
      "text/plain": [
       "<Figure size 720x432 with 1 Axes>"
      ]
     },
     "metadata": {},
     "output_type": "display_data"
    }
   ],
   "source": [
    "fig=plt.figure(figsize=(10,6))\n",
    "ax=sns.boxplot(x='cluster_id', y='frequency', data=rmf_df)\n",
    "fig.patch.set_facecolor('#f6f5f5')\n",
    "ax.set_facecolor('#f5f6f6')\n",
    "for s in ['top', 'left', 'right', 'bottom']:\n",
    "    ax.spines[s].set_visible(False)\n",
    "\n",
    "#fig.text(0.3,0.9,\"Boxplot of recency\", fontweight=\"bold\", fontfamily='serif', fontsize=18, color='black')\n",
    "#fig.text(0.3,0.83,\"In recency there are not so many outliers present.\\n But there are some so we need to handle them before making the machine learning model\", fontweight=\"bold\", fontfamily='serif', fontsize=12, color='black')\n",
    "fig.show()\n",
    "\n"
   ]
  },
  {
   "cell_type": "code",
   "execution_count": 38,
   "id": "7d90abd2",
   "metadata": {
    "execution": {
     "iopub.execute_input": "2021-09-01T10:49:00.987231Z",
     "iopub.status.busy": "2021-09-01T10:49:00.986584Z",
     "iopub.status.idle": "2021-09-01T10:49:01.144036Z",
     "shell.execute_reply": "2021-09-01T10:49:01.143528Z"
    },
    "papermill": {
     "duration": 0.226689,
     "end_time": "2021-09-01T10:49:01.144154",
     "exception": false,
     "start_time": "2021-09-01T10:49:00.917465",
     "status": "completed"
    },
    "tags": []
   },
   "outputs": [
    {
     "data": {
      "image/png": "[encoded data removed]",
      "text/plain": [
       "<Figure size 720x432 with 1 Axes>"
      ]
     },
     "metadata": {},
     "output_type": "display_data"
    }
   ],
   "source": [
    "fig=plt.figure(figsize=(10,6))\n",
    "ax=sns.boxplot(x='cluster_id', y='recency', data=rmf_df)\n",
    "fig.patch.set_facecolor('#f6f5f5')\n",
    "ax.set_facecolor('#f5f6f6')\n",
    "for s in ['top', 'left', 'right', 'bottom']:\n",
    "    ax.spines[s].set_visible(False)\n",
    "\n",
    "#fig.text(0.3,0.9,\"Boxplot of recency\", fontweight=\"bold\", fontfamily='serif', fontsize=18, color='black')\n",
    "#fig.text(0.3,0.83,\"In recency there are not so many outliers present.\\n But there are some so we need to handle them before making the machine learning model\", fontweight=\"bold\", fontfamily='serif', fontsize=12, color='black')\n",
    "fig.show()\n",
    "\n"
   ]
  },
  {
   "cell_type": "markdown",
   "id": "b2e837f9",
   "metadata": {
    "papermill": {
     "duration": 0.059937,
     "end_time": "2021-09-01T10:49:01.265972",
     "exception": false,
     "start_time": "2021-09-01T10:49:01.206035",
     "status": "completed"
    },
    "tags": []
   },
   "source": [
    "<span style=\"font-family: Arials; font-size: 18px;text-align: center; font-style: bold; font-weight: bold; letter-spacing: 2px; color: #DC143C\">Thank you for reading this work! Any feedback on this work would be very grateful. If you liked this notebook, Upvote."
   ]
  },
  {
   "cell_type": "code",
   "execution_count": null,
   "id": "7e8a7456",
   "metadata": {
    "papermill": {
     "duration": 0.061764,
     "end_time": "2021-09-01T10:49:01.389110",
     "exception": false,
     "start_time": "2021-09-01T10:49:01.327346",
     "status": "completed"
    },
    "tags": []
   },
   "outputs": [],
   "source": []
  }
 ],
 "metadata": {
  "kernelspec": {
   "display_name": "Python 3",
   "language": "python",
   "name": "python3"
  },
  "language_info": {
   "codemirror_mode": {
    "name": "ipython",
    "version": 3
   },
   "file_extension": ".py",
   "mimetype": "text/x-python",
   "name": "python",
   "nbconvert_exporter": "python",
   "pygments_lexer": "ipython3",
   "version": "3.7.10"
  },
  "papermill": {
   "default_parameters": {},
   "duration": 52.494226,
   "end_time": "2021-09-01T10:49:02.259284",
   "environment_variables": {},
   "exception": null,
   "input_path": "__notebook__.ipynb",
   "output_path": "__notebook__.ipynb",
   "parameters": {},
   "start_time": "2021-09-01T10:48:09.765058",
   "version": "2.3.3"
  }
 },
 "nbformat": 4,
 "nbformat_minor": 5
}
